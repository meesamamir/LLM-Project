{
  "cells": [
    {
      "cell_type": "markdown",
      "metadata": {
        "id": "view-in-github",
        "colab_type": "text"
      },
      "source": [
        "<a href=\"https://colab.research.google.com/github/meesamamir/LLM-Project/blob/main/LLM_Project.ipynb\" target=\"_parent\"><img src=\"https://colab.research.google.com/assets/colab-badge.svg\" alt=\"Open In Colab\"/></a>"
      ]
    },
    {
      "cell_type": "markdown",
      "metadata": {
        "id": "dXgvxpheMeSc"
      },
      "source": [
        "# News Multi-Classification using NLP Techniques\n",
        "\n",
        "This project implements a comprehensive news classification system using NLP techniques. We will use the AG News dataset, which contains news headlines labeled as follows:\n",
        "\n",
        "0: World\n",
        "\n",
        "1: Sports\n",
        "\n",
        "2: Business\n",
        "\n",
        "3: Sci/Tech\n",
        "\n",
        "The goal is to first build a baseline classifier using logistic regression and then develop a neural network classifier for comparison.\n",
        "\n",
        "Below, we describe each step and provide detailed comments."
      ]
    },
    {
      "cell_type": "code",
      "execution_count": 10,
      "metadata": {
        "colab": {
          "base_uri": "https://localhost:8080/"
        },
        "collapsed": true,
        "id": "jSan62rTVoAd",
        "outputId": "0d8e62e2-d54e-45aa-ebc6-d117891974ec"
      },
      "outputs": [
        {
          "output_type": "stream",
          "name": "stdout",
          "text": [
            "Requirement already satisfied: datasets in /usr/local/lib/python3.11/dist-packages (3.5.0)\n",
            "Requirement already satisfied: filelock in /usr/local/lib/python3.11/dist-packages (from datasets) (3.18.0)\n",
            "Requirement already satisfied: numpy>=1.17 in /usr/local/lib/python3.11/dist-packages (from datasets) (1.26.4)\n",
            "Requirement already satisfied: pyarrow>=15.0.0 in /usr/local/lib/python3.11/dist-packages (from datasets) (19.0.1)\n",
            "Requirement already satisfied: dill<0.3.9,>=0.3.0 in /usr/local/lib/python3.11/dist-packages (from datasets) (0.3.8)\n",
            "Requirement already satisfied: pandas in /usr/local/lib/python3.11/dist-packages (from datasets) (2.2.2)\n",
            "Requirement already satisfied: requests>=2.32.2 in /usr/local/lib/python3.11/dist-packages (from datasets) (2.32.3)\n",
            "Requirement already satisfied: tqdm>=4.66.3 in /usr/local/lib/python3.11/dist-packages (from datasets) (4.67.1)\n",
            "Requirement already satisfied: xxhash in /usr/local/lib/python3.11/dist-packages (from datasets) (3.5.0)\n",
            "Requirement already satisfied: multiprocess<0.70.17 in /usr/local/lib/python3.11/dist-packages (from datasets) (0.70.16)\n",
            "Requirement already satisfied: fsspec<=2024.12.0,>=2023.1.0 in /usr/local/lib/python3.11/dist-packages (from fsspec[http]<=2024.12.0,>=2023.1.0->datasets) (2024.12.0)\n",
            "Requirement already satisfied: aiohttp in /usr/local/lib/python3.11/dist-packages (from datasets) (3.11.15)\n",
            "Requirement already satisfied: huggingface-hub>=0.24.0 in /usr/local/lib/python3.11/dist-packages (from datasets) (0.30.1)\n",
            "Requirement already satisfied: packaging in /usr/local/lib/python3.11/dist-packages (from datasets) (24.2)\n",
            "Requirement already satisfied: pyyaml>=5.1 in /usr/local/lib/python3.11/dist-packages (from datasets) (6.0.2)\n",
            "Requirement already satisfied: aiohappyeyeballs>=2.3.0 in /usr/local/lib/python3.11/dist-packages (from aiohttp->datasets) (2.6.1)\n",
            "Requirement already satisfied: aiosignal>=1.1.2 in /usr/local/lib/python3.11/dist-packages (from aiohttp->datasets) (1.3.2)\n",
            "Requirement already satisfied: attrs>=17.3.0 in /usr/local/lib/python3.11/dist-packages (from aiohttp->datasets) (25.3.0)\n",
            "Requirement already satisfied: frozenlist>=1.1.1 in /usr/local/lib/python3.11/dist-packages (from aiohttp->datasets) (1.5.0)\n",
            "Requirement already satisfied: multidict<7.0,>=4.5 in /usr/local/lib/python3.11/dist-packages (from aiohttp->datasets) (6.3.1)\n",
            "Requirement already satisfied: propcache>=0.2.0 in /usr/local/lib/python3.11/dist-packages (from aiohttp->datasets) (0.3.1)\n",
            "Requirement already satisfied: yarl<2.0,>=1.17.0 in /usr/local/lib/python3.11/dist-packages (from aiohttp->datasets) (1.18.3)\n",
            "Requirement already satisfied: typing-extensions>=3.7.4.3 in /usr/local/lib/python3.11/dist-packages (from huggingface-hub>=0.24.0->datasets) (4.13.0)\n",
            "Requirement already satisfied: charset-normalizer<4,>=2 in /usr/local/lib/python3.11/dist-packages (from requests>=2.32.2->datasets) (3.4.1)\n",
            "Requirement already satisfied: idna<4,>=2.5 in /usr/local/lib/python3.11/dist-packages (from requests>=2.32.2->datasets) (3.10)\n",
            "Requirement already satisfied: urllib3<3,>=1.21.1 in /usr/local/lib/python3.11/dist-packages (from requests>=2.32.2->datasets) (2.3.0)\n",
            "Requirement already satisfied: certifi>=2017.4.17 in /usr/local/lib/python3.11/dist-packages (from requests>=2.32.2->datasets) (2025.1.31)\n",
            "Requirement already satisfied: python-dateutil>=2.8.2 in /usr/local/lib/python3.11/dist-packages (from pandas->datasets) (2.9.0.post0)\n",
            "Requirement already satisfied: pytz>=2020.1 in /usr/local/lib/python3.11/dist-packages (from pandas->datasets) (2025.2)\n",
            "Requirement already satisfied: tzdata>=2022.7 in /usr/local/lib/python3.11/dist-packages (from pandas->datasets) (2025.2)\n",
            "Requirement already satisfied: six>=1.5 in /usr/local/lib/python3.11/dist-packages (from python-dateutil>=2.8.2->pandas->datasets) (1.17.0)\n",
            "Requirement already satisfied: gensim in /usr/local/lib/python3.11/dist-packages (4.3.3)\n",
            "Requirement already satisfied: numpy<2.0,>=1.18.5 in /usr/local/lib/python3.11/dist-packages (from gensim) (1.26.4)\n",
            "Requirement already satisfied: scipy<1.14.0,>=1.7.0 in /usr/local/lib/python3.11/dist-packages (from gensim) (1.13.1)\n",
            "Requirement already satisfied: smart-open>=1.8.1 in /usr/local/lib/python3.11/dist-packages (from gensim) (7.1.0)\n",
            "Requirement already satisfied: wrapt in /usr/local/lib/python3.11/dist-packages (from smart-open>=1.8.1->gensim) (1.17.2)\n",
            "Requirement already satisfied: seaborn in /usr/local/lib/python3.11/dist-packages (0.13.2)\n",
            "Requirement already satisfied: numpy!=1.24.0,>=1.20 in /usr/local/lib/python3.11/dist-packages (from seaborn) (1.26.4)\n",
            "Requirement already satisfied: pandas>=1.2 in /usr/local/lib/python3.11/dist-packages (from seaborn) (2.2.2)\n",
            "Requirement already satisfied: matplotlib!=3.6.1,>=3.4 in /usr/local/lib/python3.11/dist-packages (from seaborn) (3.10.0)\n",
            "Requirement already satisfied: contourpy>=1.0.1 in /usr/local/lib/python3.11/dist-packages (from matplotlib!=3.6.1,>=3.4->seaborn) (1.3.1)\n",
            "Requirement already satisfied: cycler>=0.10 in /usr/local/lib/python3.11/dist-packages (from matplotlib!=3.6.1,>=3.4->seaborn) (0.12.1)\n",
            "Requirement already satisfied: fonttools>=4.22.0 in /usr/local/lib/python3.11/dist-packages (from matplotlib!=3.6.1,>=3.4->seaborn) (4.56.0)\n",
            "Requirement already satisfied: kiwisolver>=1.3.1 in /usr/local/lib/python3.11/dist-packages (from matplotlib!=3.6.1,>=3.4->seaborn) (1.4.8)\n",
            "Requirement already satisfied: packaging>=20.0 in /usr/local/lib/python3.11/dist-packages (from matplotlib!=3.6.1,>=3.4->seaborn) (24.2)\n",
            "Requirement already satisfied: pillow>=8 in /usr/local/lib/python3.11/dist-packages (from matplotlib!=3.6.1,>=3.4->seaborn) (11.1.0)\n",
            "Requirement already satisfied: pyparsing>=2.3.1 in /usr/local/lib/python3.11/dist-packages (from matplotlib!=3.6.1,>=3.4->seaborn) (3.2.3)\n",
            "Requirement already satisfied: python-dateutil>=2.7 in /usr/local/lib/python3.11/dist-packages (from matplotlib!=3.6.1,>=3.4->seaborn) (2.9.0.post0)\n",
            "Requirement already satisfied: pytz>=2020.1 in /usr/local/lib/python3.11/dist-packages (from pandas>=1.2->seaborn) (2025.2)\n",
            "Requirement already satisfied: tzdata>=2022.7 in /usr/local/lib/python3.11/dist-packages (from pandas>=1.2->seaborn) (2025.2)\n",
            "Requirement already satisfied: six>=1.5 in /usr/local/lib/python3.11/dist-packages (from python-dateutil>=2.7->matplotlib!=3.6.1,>=3.4->seaborn) (1.17.0)\n",
            "Requirement already satisfied: numpy==1.26.4 in /usr/local/lib/python3.11/dist-packages (1.26.4)\n"
          ]
        }
      ],
      "source": [
        "!pip install datasets\n",
        "!pip install gensim\n",
        "!pip install seaborn\n",
        "\n",
        "!pip install numpy==1.26.4\n",
        "\n",
        "# https://stackoverflow.com/questions/78650222/valueerror-numpy-dtype-size-changed-may-indicate-binary-incompatibility-expec"
      ]
    },
    {
      "cell_type": "code",
      "execution_count": 11,
      "metadata": {
        "id": "Kol4oFRKNBDD"
      },
      "outputs": [],
      "source": [
        "import numpy as np\n",
        "import pandas as pd\n",
        "\n",
        "from datasets import load_dataset\n",
        "from collections import Counter\n",
        "import matplotlib.pyplot as plt\n",
        "import seaborn as sns\n",
        "\n",
        "from sklearn.feature_extraction.text import CountVectorizer\n",
        "from sklearn.linear_model import LogisticRegression\n",
        "from sklearn.metrics import accuracy_score, classification_report, confusion_matrix\n",
        "\n",
        "import random\n",
        "np.random.seed(42)"
      ]
    },
    {
      "cell_type": "markdown",
      "metadata": {
        "id": "rEKSJJQsNHi4"
      },
      "source": [
        "# 1 - Data Prep"
      ]
    },
    {
      "cell_type": "markdown",
      "metadata": {
        "id": "_-AP23v0Np60"
      },
      "source": [
        "## 1.1 - Data Preprocessing\n",
        "We load the AG News dataset using the Huggingface datasets library. Then, we preprocess the text headlines by converting to lowercase and using CountVectorizer to convert the text into bag-of-words features. We will later report the vocabulary size and the shape of our data matrices.\n",
        "\n",
        "TODO: Find ways to fix any training imbalances in data labels"
      ]
    },
    {
      "cell_type": "markdown",
      "metadata": {
        "id": "Fb_YwkJAOKzM"
      },
      "source": [
        "## 1.2 - Load the AG News dataset"
      ]
    },
    {
      "cell_type": "code",
      "execution_count": 12,
      "metadata": {
        "id": "-MJfRMZzO1sc"
      },
      "outputs": [],
      "source": [
        "# The default split provides train and test\n",
        "\n",
        "from datasets import load_dataset\n",
        "\n",
        "dataset = load_dataset(\"fancyzhx/ag_news\")"
      ]
    },
    {
      "cell_type": "code",
      "source": [
        "import pandas as pd\n",
        "from collections import Counter\n",
        "from datasets import load_dataset\n",
        "\n",
        "# Convert dataset to pandas DataFrame\n",
        "df_train = pd.DataFrame(dataset['train'])\n",
        "df_test = pd.DataFrame(dataset['test'])\n",
        "\n",
        "# Count labels in training and test sets\n",
        "train_counts = Counter(df_train['label'])\n",
        "test_counts = Counter(df_test['label'])\n",
        "\n",
        "# Print label distribution\n",
        "print(\"Training Set Label Counts:\", train_counts)\n",
        "print(\"Testing Set Label Counts:\", test_counts)"
      ],
      "metadata": {
        "id": "mJNiTgTPyN_o",
        "colab": {
          "base_uri": "https://localhost:8080/"
        },
        "outputId": "5cbd4792-2a33-4be3-8358-177120a34201"
      },
      "execution_count": 13,
      "outputs": [
        {
          "output_type": "stream",
          "name": "stdout",
          "text": [
            "Training Set Label Counts: Counter({2: 30000, 3: 30000, 1: 30000, 0: 30000})\n",
            "Testing Set Label Counts: Counter({2: 1900, 3: 1900, 1: 1900, 0: 1900})\n"
          ]
        }
      ]
    },
    {
      "cell_type": "markdown",
      "metadata": {
        "id": "22V6tbSSPUP3"
      },
      "source": [
        "## 1.3 - Extract training and test texts and labels"
      ]
    },
    {
      "cell_type": "code",
      "execution_count": 15,
      "metadata": {
        "id": "uYpDJMCEPZEr",
        "colab": {
          "base_uri": "https://localhost:8080/"
        },
        "outputId": "ebca4044-74df-42fa-a4b8-5a52ff43a43d"
      },
      "outputs": [
        {
          "output_type": "stream",
          "name": "stdout",
          "text": [
            "Number of training examples (full): 120000\n",
            "Number of test examples: 7600\n"
          ]
        }
      ],
      "source": [
        "# For convenience, extract training and test texts and labels\n",
        "\n",
        "train_texts = [example[\"text\"] for example in dataset[\"train\"]]\n",
        "train_labels = [example[\"label\"] for example in dataset[\"train\"]]\n",
        "\n",
        "test_texts = [example[\"text\"] for example in dataset[\"test\"]]\n",
        "test_labels = [example[\"label\"] for example in dataset[\"test\"]]\n",
        "\n",
        "print(f\"Number of training examples (full): {len(train_texts)}\")\n",
        "print(f\"Number of test examples: {len(test_texts)}\")"
      ]
    },
    {
      "cell_type": "markdown",
      "metadata": {
        "id": "PbZt67Elolrx"
      },
      "source": [
        "## 1.4 - Add slicing of training data\n",
        "\n",
        "Comment out the following code block to use full 120k rows for training data"
      ]
    },
    {
      "cell_type": "code",
      "execution_count": 16,
      "metadata": {
        "id": "MLA9aH1FpBeN",
        "colab": {
          "base_uri": "https://localhost:8080/"
        },
        "outputId": "2871027b-c4bb-45f3-da57-03da77892697"
      },
      "outputs": [
        {
          "output_type": "stream",
          "name": "stdout",
          "text": [
            "Using 30000 training examples for experiments.\n"
          ]
        }
      ],
      "source": [
        "import random\n",
        "random.seed(42)\n",
        "\n",
        "indices = list(range(len(train_texts)))\n",
        "random.shuffle(indices)\n",
        "\n",
        "slice_indices = indices[:30000]  # Select 30k rows (approx. 25%)\n",
        "\n",
        "# slice_indices = indices[:120000]  # Select 120k rows\n",
        "\n",
        "train_texts = [train_texts[i] for i in slice_indices]\n",
        "train_labels = [train_labels[i] for i in slice_indices]\n",
        "\n",
        "print(f\"Using {len(train_texts)} training examples for experiments.\")"
      ]
    },
    {
      "cell_type": "markdown",
      "source": [
        "## 1.5 - Display a snapshot of the data (first 5 rows)"
      ],
      "metadata": {
        "id": "d5J_hwoLhnYJ"
      }
    },
    {
      "cell_type": "code",
      "source": [
        "snapshot = pd.DataFrame({\"Headline\": train_texts, \"Label\": train_labels}).head(5)\n",
        "print(\"Data Snapshot (first 5 rows):\")\n",
        "print(snapshot)"
      ],
      "metadata": {
        "id": "t3Ze5Sfghs2z",
        "colab": {
          "base_uri": "https://localhost:8080/"
        },
        "outputId": "35e2072d-86d9-44f2-e87b-b50782c2066c"
      },
      "execution_count": 17,
      "outputs": [
        {
          "output_type": "stream",
          "name": "stdout",
          "text": [
            "Data Snapshot (first 5 rows):\n",
            "                                            Headline  Label\n",
            "0  Thirst, Fear and Bribes on Desert Escape from ...      0\n",
            "1  Toshiba 20 TV freaks out, sends distress signa...      3\n",
            "2  British hostage tried fleeing before death: re...      3\n",
            "3  Keychain clicker kills TVs Discrete device tur...      3\n",
            "4  Cleric returns to Iraq, orders march on Najaf ...      0\n"
          ]
        }
      ]
    },
    {
      "cell_type": "markdown",
      "metadata": {
        "id": "TjqSiL7xUemg"
      },
      "source": [
        "## 1.6 - Feature Extraction with Bag-of-Words / TF‑IDF\n",
        "We use ***CountVectorizer*** from scikit-learn to tokenize the headlines. Text data is converted into numerical features using **CountVectorizer**\n",
        "\n",
        "*   All words are converted to lowercase.\n",
        "*   We use a minimum document frequency to filter rare tokens.\n",
        "\n",
        "We then report the vocabulary size and the shapes of the training and test matrices."
      ]
    },
    {
      "cell_type": "code",
      "execution_count": 19,
      "metadata": {
        "id": "-9wgpc8_UkDa",
        "colab": {
          "base_uri": "https://localhost:8080/"
        },
        "outputId": "181afe54-aa52-4ed5-801f-d574daed4655"
      },
      "outputs": [
        {
          "output_type": "stream",
          "name": "stdout",
          "text": [
            "\n",
            "Vocabulary size: 18331\n",
            "\n",
            "Shape of training data matrix: (30000, 18331)\n",
            "Shape of test data matrix: (7600, 18331)\n"
          ]
        }
      ],
      "source": [
        "# Create a CountVectorizer with lowercase conversion and minimum document frequency threshold\n",
        "vectorizer = CountVectorizer(lowercase=True, min_df=3)\n",
        "\n",
        "# Fit on training texts and transform both training and test texts\n",
        "X_train = vectorizer.fit_transform(train_texts)\n",
        "X_test = vectorizer.transform(test_texts)\n",
        "\n",
        "# Report the vocabulary size and matrix shapes\n",
        "vocab_size = len(vectorizer.vocabulary_)\n",
        "print(f\"\\nVocabulary size: {vocab_size}\\n\")\n",
        "print(f\"Shape of training data matrix: {X_train.shape}\") # (n_train, vocab_size)\n",
        "print(f\"Shape of test data matrix: {X_test.shape}\")      # (n_test, vocab_size)\n"
      ]
    },
    {
      "cell_type": "markdown",
      "metadata": {
        "id": "emJ-c2XUWM1k"
      },
      "source": [
        "# 2 - Baseline Classifier: Logistic Regression\n",
        "\n",
        "We implement a baseline logistic regression classifier.\n",
        "\n",
        "*   First, we train without regularization.\n",
        "*   Then, we train with L2 regularization.\n",
        "\n",
        "We report the classification accuracies on the training and test sets."
      ]
    },
    {
      "cell_type": "markdown",
      "metadata": {
        "id": "bXFQXzE-WoXU"
      },
      "source": [
        "## 2.1 - Logistic Regression **without** Regularization"
      ]
    },
    {
      "cell_type": "code",
      "execution_count": 20,
      "metadata": {
        "id": "NXe47gerWrVB",
        "colab": {
          "base_uri": "https://localhost:8080/"
        },
        "outputId": "3cb725f3-ae15-4330-b576-f4b7e2276556"
      },
      "outputs": [
        {
          "output_type": "stream",
          "name": "stdout",
          "text": [
            "\n",
            "### Logistic Regression Baseline (No Regularization) ###\n",
            "\n",
            "Training Accuracy (No Reg): 0.9998\n",
            "Test Accuracy (No Reg): 0.8683\n"
          ]
        }
      ],
      "source": [
        "print(\"\\n### Logistic Regression Baseline (No Regularization) ###\\n\")\n",
        "\n",
        "# Instantiate logistic regression with a very high C to effectively turn off regularization\n",
        "lr_no_reg = LogisticRegression(fit_intercept=True, C=1e9, solver=\"liblinear\", max_iter=1000)\n",
        "\n",
        "# Train the classifier\n",
        "lr_no_reg.fit(X_train, train_labels)\n",
        "\n",
        "# Predict on training and test sets\n",
        "train_preds_no_reg = lr_no_reg.predict(X_train)\n",
        "test_preds_no_reg = lr_no_reg.predict(X_test)\n",
        "\n",
        "# Computing accuracy scores\n",
        "train_acc_no_reg = accuracy_score(train_labels, train_preds_no_reg)\n",
        "test_acc_no_reg = accuracy_score(test_labels, test_preds_no_reg)\n",
        "\n",
        "print(f\"Training Accuracy (No Reg): {train_acc_no_reg:.4f}\")\n",
        "print(f\"Test Accuracy (No Reg): {test_acc_no_reg:.4f}\")\n"
      ]
    },
    {
      "cell_type": "markdown",
      "metadata": {
        "id": "Ejkpn6knXD8w"
      },
      "source": [
        "## 2.2 - Logistic Regression with L2 Regularization"
      ]
    },
    {
      "cell_type": "code",
      "execution_count": 21,
      "metadata": {
        "id": "Ca6683elXMUC",
        "colab": {
          "base_uri": "https://localhost:8080/"
        },
        "outputId": "92bb3584-59a5-4dc5-f664-d2c0960c9e98"
      },
      "outputs": [
        {
          "output_type": "stream",
          "name": "stdout",
          "text": [
            "\n",
            "### Logistic Regression Baseline (With L2 Regularization, lambda=10.0) ###\n",
            "\n",
            "Training Accuracy (With Reg): 0.9463\n",
            "Test Accuracy (With Reg): 0.8992\n"
          ]
        }
      ],
      "source": [
        "print(\"\\n### Logistic Regression Baseline (With L2 Regularization, lambda=10.0) ###\\n\")\n",
        "\n",
        "# For L2 regularization with lambda=10.0, set C = 1/lambda = 0.1.\n",
        "lr_reg = LogisticRegression(fit_intercept=True, C=0.1, solver=\"liblinear\", max_iter=1000)\n",
        "\n",
        "# Train the classifier\n",
        "lr_reg.fit(X_train, train_labels)\n",
        "\n",
        "# Predict on training and test sets\n",
        "train_preds_reg = lr_reg.predict(X_train)\n",
        "test_preds_reg = lr_reg.predict(X_test)\n",
        "\n",
        "# Computing accuracy scores\n",
        "train_acc_reg = accuracy_score(train_labels, train_preds_reg)\n",
        "test_acc_reg = accuracy_score(test_labels, test_preds_reg)\n",
        "\n",
        "print(f\"Training Accuracy (With Reg): {train_acc_reg:.4f}\")\n",
        "print(f\"Test Accuracy (With Reg): {test_acc_reg:.4f}\")"
      ]
    },
    {
      "cell_type": "markdown",
      "metadata": {
        "id": "5TUDbEKEamzt"
      },
      "source": [
        "## 2.3 - Additional Evaluation (Precision, Recall, F1-score, Confusion Matrix)\n"
      ]
    },
    {
      "cell_type": "code",
      "execution_count": 22,
      "metadata": {
        "id": "1IGWY8TKar5m",
        "colab": {
          "base_uri": "https://localhost:8080/"
        },
        "outputId": "97f2107a-4199-4f15-db37-b5d1ea41b1ce"
      },
      "outputs": [
        {
          "output_type": "stream",
          "name": "stdout",
          "text": [
            "\n",
            "Classification Report (Test, With Regularization):\n",
            "              precision    recall  f1-score   support\n",
            "\n",
            "           0       0.92      0.89      0.90      1900\n",
            "           1       0.94      0.97      0.96      1900\n",
            "           2       0.87      0.85      0.86      1900\n",
            "           3       0.87      0.88      0.87      1900\n",
            "\n",
            "    accuracy                           0.90      7600\n",
            "   macro avg       0.90      0.90      0.90      7600\n",
            "weighted avg       0.90      0.90      0.90      7600\n",
            "\n",
            "Confusion Matrix:\n",
            "[[1695   66   83   56]\n",
            " [  22 1843   18   17]\n",
            " [  69   20 1623  188]\n",
            " [  61   26  140 1673]]\n"
          ]
        }
      ],
      "source": [
        "print(\"\\nClassification Report (Test, With Regularization):\")\n",
        "print(classification_report(test_labels, test_preds_reg))\n",
        "\n",
        "print(\"Confusion Matrix:\")\n",
        "print(confusion_matrix(test_labels, test_preds_reg))\n"
      ]
    },
    {
      "cell_type": "markdown",
      "source": [
        "## 2.4 - Confusion Matrix Heatmap"
      ],
      "metadata": {
        "id": "qMYGUq8DiT6K"
      }
    },
    {
      "cell_type": "code",
      "source": [
        "import seaborn as sns\n",
        "\n",
        "label_names = [\"World\", \"Sports\", \"Business\", \"Sci/Tech\"]\n",
        "cm = confusion_matrix(test_labels, test_preds_reg)\n",
        "\n",
        "plt.figure(figsize=(8, 6))\n",
        "sns.heatmap(cm, annot=True, fmt='d', cmap='Blues', xticklabels=label_names, yticklabels=label_names)\n",
        "plt.title(\"Confusion Matrix - Logistic Regression (With Reg)\")\n",
        "plt.xlabel(\"Predicted Label\")\n",
        "plt.ylabel(\"True Label\")\n",
        "plt.show()"
      ],
      "metadata": {
        "id": "JL8WuNb7iaFF",
        "colab": {
          "base_uri": "https://localhost:8080/",
          "height": 564
        },
        "outputId": "d25a5c03-7f07-41bb-9b31-c14668cb5401"
      },
      "execution_count": 23,
      "outputs": [
        {
          "output_type": "display_data",
          "data": {
            "text/plain": [
              "<Figure size 800x600 with 2 Axes>"
            ],
            "image/png": "[encoded data removed]"
          },
          "metadata": {}
        }
      ]
    },
    {
      "cell_type": "markdown",
      "metadata": {
        "id": "0yDt8KJlXXdn"
      },
      "source": [
        "# 3 - Neural Network Classifier\n",
        "\n",
        "Next, we implement a simple feedforward neural network classifier for the news classification task. The architecture is as follows:\n",
        "\n",
        "1. Embedding Layer: Converts word indices to dense vectors.\n",
        "\n",
        "2. First Hidden Layer: Sums the embeddings over the sequence and applies a linear transformation followed by a sigmoid activation.\n",
        "\n",
        "3. Second Hidden Layer: Applies another linear transformation and sigmoid activation.\n",
        "\n",
        "4. Output Layer: Applies a final linear transformation to predict the logits for the 4 classes, followed by softmax during evaluation.\n",
        "\n",
        "We use PyTorch to implement the model.\n",
        "\n",
        "Next, we will then train the network and evaluate its performance."
      ]
    },
    {
      "cell_type": "code",
      "execution_count": 24,
      "metadata": {
        "id": "fgvn9s-EccpO",
        "colab": {
          "base_uri": "https://localhost:8080/"
        },
        "outputId": "1f244724-0c6e-4de6-9854-df7ff7b606a3"
      },
      "outputs": [
        {
          "output_type": "execute_result",
          "data": {
            "text/plain": [
              "<torch._C.Generator at 0x7a5094016450>"
            ]
          },
          "metadata": {},
          "execution_count": 24
        }
      ],
      "source": [
        "import torch\n",
        "import torch.nn as nn\n",
        "import torch.nn.functional as F\n",
        "from torch.utils.data import Dataset, DataLoader\n",
        "\n",
        "# Setting torch seed for reproducibility\n",
        "torch.manual_seed(42)\n"
      ]
    },
    {
      "cell_type": "markdown",
      "metadata": {
        "id": "7hTfViRxcyhT"
      },
      "source": [
        "## 3.1 - Custom Dataset and DataLoader\n",
        "We define a custom dataset to process news headlines. Each headline is tokenized (using a basic split), mapped to indices using the vocabulary from CountVectorizer, and then finally padded/truncated to a fixed length."
      ]
    },
    {
      "cell_type": "code",
      "execution_count": 25,
      "metadata": {
        "id": "YgrZopXWc1lT"
      },
      "outputs": [],
      "source": [
        "# Building a word-to-index mapping from CountVectorizer's vocabulary\n",
        "# Note: CountVectorizer vocabulary maps: word -> index.\n",
        "\n",
        "vocab = vectorizer.vocabulary_\n",
        "\n",
        "# We assume the padding index is 0. If \"<pad>\" is not in the vocabulary, we can use 0 as default.\n",
        "# (In practice, you might add a dedicated pad token to the vocabulary.)\n",
        "pad_idx = 0\n",
        "default_idx = 0 # Unknown words get index 0\n",
        "\n",
        "# Define maximum sequence length (e.g., 20 tokens)\n",
        "max_seq_len_nn = 20\n",
        "\n",
        "# Convert text to lowercase and split on whitespace.\n",
        "def tokenize_text(text):\n",
        "  tokens = text.lower().split()\n",
        "  indices = [vocab.get(token, default_idx) for token in tokens]\n",
        "\n",
        "  return indices\n"
      ]
    },
    {
      "cell_type": "code",
      "execution_count": 26,
      "metadata": {
        "id": "_XtDLb6-eZt0"
      },
      "outputs": [],
      "source": [
        "class AGNewsDataset(Dataset):\n",
        "  def __init__(self, texts, labels, max_len=max_seq_len_nn):\n",
        "    self.texts = texts\n",
        "    self.labels = labels\n",
        "    self.max_len = max_len\n",
        "\n",
        "  def __len__(self):\n",
        "    return len(self.texts)\n",
        "\n",
        "  def __getitem__(self, idx):\n",
        "    indices = tokenize_text(self.texts[idx])\n",
        "    if len(indices) < self.max_len:\n",
        "        indices = indices + [pad_idx] * (self.max_len - len(indices))\n",
        "    else:\n",
        "        indices = indices[:self.max_len]\n",
        "    label = self.labels[idx]\n",
        "\n",
        "    return torch.tensor(indices, dtype=torch.long), torch.tensor(label, dtype=torch.long)"
      ]
    },
    {
      "cell_type": "code",
      "execution_count": 27,
      "metadata": {
        "id": "Tr4egsKbeXvS"
      },
      "outputs": [],
      "source": [
        "# Create dataset and DataLoader instances\n",
        "train_dataset = AGNewsDataset(train_texts, train_labels, max_len=max_seq_len_nn)\n",
        "test_dataset = AGNewsDataset(test_texts, test_labels, max_len=max_seq_len_nn)\n",
        "\n",
        "batch_size = 64\n",
        "\n",
        "train_loader = DataLoader(train_dataset, batch_size=batch_size, shuffle=True)\n",
        "test_loader = DataLoader(test_dataset, batch_size=batch_size, shuffle=False)\n"
      ]
    },
    {
      "cell_type": "markdown",
      "source": [
        "## 3.2 - Neural Classifiers"
      ],
      "metadata": {
        "id": "6ja5ufwPLs1t"
      }
    },
    {
      "cell_type": "code",
      "execution_count": 28,
      "metadata": {
        "id": "DEswUh_1euq_"
      },
      "outputs": [],
      "source": [
        "class NeuralClassifier(nn.Module):\n",
        "  # Initialize the neural network.\n",
        "  def __init__(self, vocab_size, embed_size, hidden_size, num_classes=4):\n",
        "\n",
        "    super(NeuralClassifier, self).__init__()\n",
        "\n",
        "    \"\"\" Initialize the neural network.\n",
        "    Args:\n",
        "        vocab_size (int): Size of the vocabulary.\n",
        "        embed_size (int): Dimensionality of word embeddings.\n",
        "        hidden_size (int): Size of hidden layers.\n",
        "        num_classes (int): Number of news categories.\n",
        "    \"\"\"\n",
        "    # Defined layers as per 'Neural Networks for NLP.pdf' slides 27-29:\n",
        "        # Step 1: Embedding layer (with padding support)\n",
        "        # Step 2: Linear layer from embed_size to hidden_size (first hidden layer)\n",
        "        # Step 3: Second linear layer from hidden_size to hidden_size (second hidden layer)\n",
        "        # Step 4: Output linear layer from hidden_size to class_size\n",
        "\n",
        "    # Embedding layer (with padding support)\n",
        "    self.embedding = nn.Embedding(vocab_size, embed_size, padding_idx=pad_idx)\n",
        "\n",
        "    # 2 layers network\n",
        "    self.fc1 = nn.Linear(embed_size, hidden_size)\n",
        "    self.fc2 = nn.Linear(hidden_size, hidden_size)\n",
        "\n",
        "    self.fc_out = nn.Linear(hidden_size, num_classes)\n",
        "\n",
        "  def forward(self, x):\n",
        "    \"\"\"\n",
        "    Forward pass of the model.\n",
        "\n",
        "    Args:\n",
        "        x (Tensor): Input tensor of shape [batch_size, seq_len].\n",
        "\n",
        "    Returns:\n",
        "        logits (Tensor): Logits of shape [batch_size, num_classes].\n",
        "    \"\"\"\n",
        "\n",
        "    # Embedding lookup\n",
        "    embedded = self.embedding(x)               # [B, L, E]\n",
        "\n",
        "    # Sum over sequence length to create fixed-size representation\n",
        "    summed = embedded.sum(dim=1)               # [B, E] fixed-size representation\n",
        "\n",
        "    # Pass through layers with sigmoid activation\n",
        "    h1 = torch.sigmoid(self.fc1(summed))       # first hidden layer\n",
        "    h2 = torch.sigmoid(self.fc2(h1))           # second hidden layer\n",
        "\n",
        "    logits = self.fc_out(h2)                   # output layer (logits)\n",
        "    return logits\n"
      ]
    },
    {
      "cell_type": "markdown",
      "source": [
        "### 3.2.1 Deep Neural Classifier\n",
        "Adding more layers can potentially improve accuracy by allowing the network to learn more complex, abstract representations. However, deeper networks also come with increased risk of overfitting and may require careful tuning (e.g., proper regularization, dropout, and learning rate adjustments). It's worth experimenting with a deeper architecture\n",
        "\n",
        "Things we changed for this deep model:\n",
        "- We replaced **torch.sigmoid** with **F.relu**, which is less prone to saturation and allows better gradient propagation\n",
        "\n",
        "In training:\n",
        "- The dropout rate is reduced to 0.2 to retain more information while still providing regularization\n",
        "- Lowering the learning rate to 0.01 can help the deeper network converge more steadily"
      ],
      "metadata": {
        "id": "w5RF63ZqLnVf"
      }
    },
    {
      "cell_type": "code",
      "source": [
        "class DeepNeuralClassifier(nn.Module):\n",
        "    def __init__(self, vocab_size, embed_size, hidden_size, num_classes=4, dropout_rate=0.5):\n",
        "\n",
        "        super(DeepNeuralClassifier, self).__init__()\n",
        "        \"\"\"\n",
        "        Initialize the deep neural network.\n",
        "\n",
        "        Args:\n",
        "            vocab_size (int): Size of the vocabulary.\n",
        "            embed_size (int): Dimensionality of word embeddings.\n",
        "            hidden_size (int): Size of hidden layers.\n",
        "            num_classes (int): Number of news categories.\n",
        "            dropout_rate (float): Dropout probability.\n",
        "        \"\"\"\n",
        "\n",
        "        # Embedding layer (with padding support)\n",
        "        self.embedding = nn.Embedding(vocab_size, embed_size, padding_idx=pad_idx)\n",
        "\n",
        "        # 4 layers network\n",
        "        self.fc1 = nn.Linear(embed_size, hidden_size)\n",
        "        self.fc2 = nn.Linear(hidden_size, hidden_size)\n",
        "        self.fc3 = nn.Linear(hidden_size, hidden_size)\n",
        "        self.fc4 = nn.Linear(hidden_size, hidden_size)\n",
        "\n",
        "        self.fc_out = nn.Linear(hidden_size, num_classes)\n",
        "\n",
        "        # Dropout layer\n",
        "        self.dropout = nn.Dropout(dropout_rate)\n",
        "\n",
        "    def forward(self, x):\n",
        "        \"\"\"\n",
        "        Forward pass of the model.\n",
        "\n",
        "        Args:\n",
        "            x (Tensor): Input tensor of shape [batch_size, seq_len].\n",
        "\n",
        "        Returns:\n",
        "            logits (Tensor): Logits of shape [batch_size, num_classes].\n",
        "        \"\"\"\n",
        "        # Get embeddings: [batch_size, seq_len, embed_size]\n",
        "        embedded = self.embedding(x)\n",
        "\n",
        "        # Mean pooling across sequence length: [batch_size, embed_size]\n",
        "        pooled = embedded.mean(dim=1)\n",
        "\n",
        "        # Pass through layers with ReLU and dropout\n",
        "        h1 = F.relu(self.fc1(pooled))\n",
        "        h1 = self.dropout(h1)\n",
        "        h2 = F.relu(self.fc2(h1))\n",
        "        h2 = self.dropout(h2)\n",
        "        h3 = F.relu(self.fc3(h2))\n",
        "        h3 = self.dropout(h3)\n",
        "        logits = self.fc_out(h3)\n",
        "\n",
        "        return logits\n",
        "\n",
        "# # Example usage: instantiate the new deep model\n",
        "# deep_model = DeepNeuralClassifier(vocab_size=len(vocab), embed_size=64, hidden_size=64, num_classes=4, dropout_rate=0.5)\n",
        "\n",
        "# # Then use the same training and evaluation pipeline as before.\n"
      ],
      "metadata": {
        "id": "oKoGktecLdzf"
      },
      "execution_count": 29,
      "outputs": []
    },
    {
      "cell_type": "markdown",
      "metadata": {
        "id": "iVxFAe9hf28P"
      },
      "source": [
        "## 3.3 - Training and Evaluation Functions\n",
        "We define functions for training one mini-batch and evaluating the model over an entire DataLoader."
      ]
    },
    {
      "cell_type": "markdown",
      "metadata": {
        "id": "XNGtcd1ThOMi"
      },
      "source": [
        "### 3.3.1 - Training Function:\n"
      ]
    },
    {
      "cell_type": "code",
      "execution_count": 30,
      "metadata": {
        "id": "9qkbTvZtf6U4"
      },
      "outputs": [],
      "source": [
        "def train_batch(batch, model, optimizer):\n",
        "  \"\"\" Train on one mini-batch\n",
        "  Args:\n",
        "    batch (tuple): (texts, labels) from DataLoader.\n",
        "    model (nn.Module): Neural network.\n",
        "    optimizer: Optimizer instance.\n",
        "\n",
        "  Returns:\n",
        "      loss (float): Mini-batch loss.\n",
        "  \"\"\"\n",
        "  # set in training mode\n",
        "  model.train()\n",
        "\n",
        "  # initialize optimizer\n",
        "  optimizer.zero_grad()\n",
        "\n",
        "  # forward: prediction\n",
        "  texts, labels = batch\n",
        "  logits = model(texts)\n",
        "  loss = F.cross_entropy(logits, labels)\n",
        "\n",
        "  # backward: gradient computation\n",
        "  loss.backward()\n",
        "\n",
        "  # norm clipping, in case the gradient norm is too large\n",
        "  torch.nn.utils.clip_grad_norm_(model.parameters(), 1.0)\n",
        "\n",
        "  # gradient-based update parameter\n",
        "  optimizer.step()\n",
        "\n",
        "  return loss.item()"
      ]
    },
    {
      "cell_type": "markdown",
      "metadata": {
        "id": "NwzlxshhhXf7"
      },
      "source": [
        "### 3.3.2 - Evaluating Function:"
      ]
    },
    {
      "cell_type": "code",
      "execution_count": 31,
      "metadata": {
        "id": "fH7UWnadhHxm"
      },
      "outputs": [],
      "source": [
        "def evaluate(loader, model):\n",
        "  \"\"\" Evaluate model on given DataLoader.\n",
        "  Args:\n",
        "    loader (DataLoader): Evaluation data.\n",
        "    model (nn.Module): Neural network.\n",
        "\n",
        "  Returns:\n",
        "    avg_loss (float): Average loss.\n",
        "    accuracy (float): Classification accuracy.\n",
        "  \"\"\"\n",
        "  model.eval()\n",
        "  total_loss = 0.0\n",
        "  total_correct = 0\n",
        "  total_examples = 0\n",
        "  with torch.no_grad():\n",
        "      for texts, labels in loader:\n",
        "          logits = model(texts)\n",
        "          loss = F.cross_entropy(logits, labels)\n",
        "          total_loss += loss.item() * texts.size(0)\n",
        "          preds = torch.argmax(logits, dim=1)\n",
        "          total_correct += (preds == labels).sum().item()\n",
        "          total_examples += texts.size(0)\n",
        "  avg_loss = total_loss / total_examples\n",
        "  accuracy = total_correct / total_examples\n",
        "\n",
        "  return avg_loss, accuracy\n"
      ]
    },
    {
      "cell_type": "markdown",
      "metadata": {
        "id": "x5hZeXgYiJgx"
      },
      "source": [
        "## 3.4 - Training the Neural Network Classifier\n",
        "Hyperparameters:\n",
        "\n",
        "- Embedding size: 64\n",
        "\n",
        "- Hidden size: 64\n",
        "\n",
        "- Optimizer: SGD with learning rate 0.05\n",
        "\n",
        "- Epochs: 50 (for demonstration; increase as needed)\n",
        "\n",
        "We record the training loss and validation performance at each epoch."
      ]
    },
    {
      "cell_type": "code",
      "execution_count": 32,
      "metadata": {
        "id": "O_Z-W3PEiQ3M",
        "colab": {
          "base_uri": "https://localhost:8080/"
        },
        "outputId": "c0d924b6-ed82-4cbd-c8ba-fae3bac60a46"
      },
      "outputs": [
        {
          "output_type": "stream",
          "name": "stdout",
          "text": [
            "\n",
            "### Training Neural Network Classifier ###\n",
            "\n",
            "Epoch 1: Train Loss = 1.3822, Val Loss = 1.3731, Val Accuracy = 0.3058\n",
            "Epoch 2: Train Loss = 1.3595, Val Loss = 1.3400, Val Accuracy = 0.3709\n",
            "Epoch 3: Train Loss = 1.3112, Val Loss = 1.2809, Val Accuracy = 0.4249\n",
            "Epoch 4: Train Loss = 1.2582, Val Loss = 1.2423, Val Accuracy = 0.4416\n",
            "Epoch 5: Train Loss = 1.2294, Val Loss = 1.2315, Val Accuracy = 0.4449\n",
            "Epoch 6: Train Loss = 1.2141, Val Loss = 1.2149, Val Accuracy = 0.4587\n",
            "Epoch 7: Train Loss = 1.2024, Val Loss = 1.2083, Val Accuracy = 0.4650\n",
            "Epoch 8: Train Loss = 1.1915, Val Loss = 1.2054, Val Accuracy = 0.4672\n",
            "Epoch 9: Train Loss = 1.1795, Val Loss = 1.1969, Val Accuracy = 0.4687\n",
            "Epoch 10: Train Loss = 1.1682, Val Loss = 1.1855, Val Accuracy = 0.4755\n",
            "Epoch 11: Train Loss = 1.1574, Val Loss = 1.1742, Val Accuracy = 0.4833\n",
            "Epoch 12: Train Loss = 1.1459, Val Loss = 1.1654, Val Accuracy = 0.4905\n",
            "Epoch 13: Train Loss = 1.1344, Val Loss = 1.1569, Val Accuracy = 0.4930\n",
            "Epoch 14: Train Loss = 1.1219, Val Loss = 1.1518, Val Accuracy = 0.4976\n",
            "Epoch 15: Train Loss = 1.1105, Val Loss = 1.1404, Val Accuracy = 0.5037\n",
            "Epoch 16: Train Loss = 1.0984, Val Loss = 1.1343, Val Accuracy = 0.5076\n",
            "Epoch 17: Train Loss = 1.0855, Val Loss = 1.1283, Val Accuracy = 0.5162\n",
            "Epoch 18: Train Loss = 1.0737, Val Loss = 1.1194, Val Accuracy = 0.5233\n",
            "Epoch 19: Train Loss = 1.0608, Val Loss = 1.1168, Val Accuracy = 0.5203\n",
            "Epoch 20: Train Loss = 1.0491, Val Loss = 1.1087, Val Accuracy = 0.5318\n",
            "Epoch 21: Train Loss = 1.0365, Val Loss = 1.0983, Val Accuracy = 0.5329\n",
            "Epoch 22: Train Loss = 1.0247, Val Loss = 1.0943, Val Accuracy = 0.5362\n",
            "Epoch 23: Train Loss = 1.0117, Val Loss = 1.0895, Val Accuracy = 0.5386\n",
            "Epoch 24: Train Loss = 0.9998, Val Loss = 1.0908, Val Accuracy = 0.5366\n",
            "Epoch 25: Train Loss = 0.9884, Val Loss = 1.0797, Val Accuracy = 0.5466\n",
            "Epoch 26: Train Loss = 0.9763, Val Loss = 1.0816, Val Accuracy = 0.5436\n",
            "Epoch 27: Train Loss = 0.9658, Val Loss = 1.0766, Val Accuracy = 0.5458\n",
            "Epoch 28: Train Loss = 0.9548, Val Loss = 1.0728, Val Accuracy = 0.5533\n",
            "Epoch 29: Train Loss = 0.9448, Val Loss = 1.0672, Val Accuracy = 0.5575\n",
            "Epoch 30: Train Loss = 0.9352, Val Loss = 1.0655, Val Accuracy = 0.5575\n",
            "Epoch 31: Train Loss = 0.9259, Val Loss = 1.0668, Val Accuracy = 0.5563\n",
            "Epoch 32: Train Loss = 0.9164, Val Loss = 1.0725, Val Accuracy = 0.5593\n",
            "Epoch 33: Train Loss = 0.9083, Val Loss = 1.0605, Val Accuracy = 0.5638\n",
            "Epoch 34: Train Loss = 0.9000, Val Loss = 1.0601, Val Accuracy = 0.5641\n",
            "Epoch 35: Train Loss = 0.8920, Val Loss = 1.0579, Val Accuracy = 0.5678\n",
            "Epoch 36: Train Loss = 0.8847, Val Loss = 1.0584, Val Accuracy = 0.5683\n",
            "Epoch 37: Train Loss = 0.8772, Val Loss = 1.0579, Val Accuracy = 0.5680\n",
            "Epoch 38: Train Loss = 0.8697, Val Loss = 1.0578, Val Accuracy = 0.5653\n",
            "Epoch 39: Train Loss = 0.8631, Val Loss = 1.0576, Val Accuracy = 0.5746\n",
            "Epoch 40: Train Loss = 0.8567, Val Loss = 1.0538, Val Accuracy = 0.5724\n",
            "Epoch 41: Train Loss = 0.8498, Val Loss = 1.0553, Val Accuracy = 0.5772\n",
            "Epoch 42: Train Loss = 0.8437, Val Loss = 1.0546, Val Accuracy = 0.5764\n",
            "Epoch 43: Train Loss = 0.8372, Val Loss = 1.0545, Val Accuracy = 0.5754\n",
            "Epoch 44: Train Loss = 0.8310, Val Loss = 1.0557, Val Accuracy = 0.5758\n",
            "Epoch 45: Train Loss = 0.8247, Val Loss = 1.0734, Val Accuracy = 0.5708\n",
            "Epoch 46: Train Loss = 0.8192, Val Loss = 1.0566, Val Accuracy = 0.5780\n",
            "Epoch 47: Train Loss = 0.8136, Val Loss = 1.0520, Val Accuracy = 0.5793\n",
            "Epoch 48: Train Loss = 0.8076, Val Loss = 1.0571, Val Accuracy = 0.5800\n",
            "Epoch 49: Train Loss = 0.8020, Val Loss = 1.0620, Val Accuracy = 0.5788\n",
            "Epoch 50: Train Loss = 0.7966, Val Loss = 1.0576, Val Accuracy = 0.5820\n",
            "\n",
            "Neural Network Training Completed.\n",
            "Best Validation Accuracy: 0.5820\n",
            "Final Validation Accuracy: 0.5820\n"
          ]
        }
      ],
      "source": [
        "# Hyperparameters\n",
        "embed_size = 64\n",
        "hidden_size = 64\n",
        "num_classes = 4\n",
        "num_epochs = 50 # Increase for final training\n",
        "learning_rate = 0.05\n",
        "\n",
        "# Initialize the neural network model\n",
        "model_nn = NeuralClassifier(\n",
        "    vocab_size=len(vocab),\n",
        "    embed_size=embed_size,\n",
        "    hidden_size=hidden_size,\n",
        "    num_classes=num_classes)\n",
        "\n",
        "# Use SGD optimizer\n",
        "optimizer_nn = torch.optim.SGD(\n",
        "    model_nn.parameters(), lr=learning_rate)\n",
        "\n",
        "# Record training progress\n",
        "train_losses = []\n",
        "val_losses = []\n",
        "val_accuracies = []\n",
        "\n",
        "print(\"\\n### Training Neural Network Classifier ###\\n\")\n",
        "for epoch in range(1, num_epochs + 1):\n",
        "    # 1. Train for one epoch\n",
        "    epoch_loss = 0.0\n",
        "    for batch in train_loader:\n",
        "        loss = train_batch(batch, model_nn, optimizer_nn)\n",
        "        epoch_loss += loss\n",
        "\n",
        "    # 2. Compute average training loss for this epoch\n",
        "    avg_train_loss_nn = epoch_loss / len(train_loader)\n",
        "    train_losses.append(avg_train_loss_nn)\n",
        "\n",
        "    # 3. Evaluate on the test/validation set\n",
        "    val_loss_nn, val_acc_nn = evaluate(test_loader, model_nn)\n",
        "    val_losses.append(val_loss_nn)\n",
        "    val_accuracies.append(val_acc_nn)\n",
        "\n",
        "    # 4. Print a single summary line for this epoch\n",
        "    print(f\"Epoch {epoch}: \"\n",
        "          f\"Train Loss = {avg_train_loss_nn:.4f}, \"\n",
        "          f\"Val Loss = {val_loss_nn:.4f}, \"\n",
        "          f\"Val Accuracy = {val_acc_nn:.4f}\")\n",
        "\n",
        "best_nn_acc = max(val_accuracies)\n",
        "final_nn_acc = val_accuracies[-1]\n",
        "\n",
        "print(\"\\nNeural Network Training Completed.\")\n",
        "print(f\"Best Validation Accuracy: {best_nn_acc:.4f}\")\n",
        "print(f\"Final Validation Accuracy: {final_nn_acc:.4f}\")"
      ]
    },
    {
      "cell_type": "markdown",
      "source": [
        "### 3.4.1 Training the Deep Neural Network"
      ],
      "metadata": {
        "id": "8gQXzn-rNewd"
      }
    },
    {
      "cell_type": "code",
      "source": [
        "# Hyperparameters for the deep model\n",
        "deep_embed_size = 64\n",
        "deep_hidden_size = 64\n",
        "num_epochs_deep = 50      # Use the same number of epochs for comparison; adjust as needed\n",
        "learning_rate_deep = 0.01 # Lower the learning rate for deep nn\n",
        "dropout_rate = 0.2\n",
        "\n",
        "# Instantiate the deep neural network model\n",
        "deep_model = DeepNeuralClassifier(\n",
        "    vocab_size=len(vocab),\n",
        "    embed_size=deep_embed_size,\n",
        "    hidden_size=deep_hidden_size,\n",
        "    num_classes=num_classes,\n",
        "    dropout_rate=dropout_rate)\n",
        "\n",
        "# Use SGD optimizer for deep model\n",
        "optimizer_deep = torch.optim.SGD(deep_model.parameters(), lr=learning_rate_deep)\n",
        "\n",
        "# Record training progress for deep model\n",
        "deep_train_losses = []\n",
        "deep_val_losses = []\n",
        "deep_val_accuracies = []\n",
        "\n",
        "print(\"\\n### Training Deep Neural Network Classifier ###\\n\")\n",
        "for epoch in range(1, num_epochs_deep + 1):\n",
        "\n",
        "    # 1. Train for one epoch\n",
        "    epoch_loss = 0.0\n",
        "    for batch in train_loader:\n",
        "        loss = train_batch(batch, deep_model, optimizer_deep)\n",
        "        epoch_loss += loss\n",
        "\n",
        "    # 2. Compute average training loss for this epoch\n",
        "    avg_train_loss = epoch_loss / len(train_loader)\n",
        "    deep_train_losses.append(avg_train_loss)\n",
        "\n",
        "    # 3. Evaluate on the test/validation set\n",
        "    val_loss, val_acc = evaluate(test_loader, deep_model)\n",
        "    deep_val_losses.append(val_loss)\n",
        "    deep_val_accuracies.append(val_acc)\n",
        "\n",
        "    # 4. Print a single summary line for this epoch\n",
        "    print(f\"Epoch {epoch}: Train Loss = {avg_train_loss:.4f}, Val Loss = {val_loss:.4f}, Val Accuracy = {val_acc:.4f}\")\n",
        "\n",
        "best_deep_acc = max(deep_val_accuracies)\n",
        "final_deep_acc = deep_val_accuracies[-1]\n",
        "\n",
        "print(\"\\nDeep Neural Network Training Completed.\")\n",
        "print(f\"Best Validation Accuracy (Deep): {best_deep_acc:.4f}\")\n",
        "print(f\"Final Validation Accuracy (Deep): {final_deep_acc:.4f}\")\n"
      ],
      "metadata": {
        "id": "OPXEP9f9NmbK",
        "colab": {
          "base_uri": "https://localhost:8080/"
        },
        "outputId": "e82c63ed-94c7-4246-c848-3f38a655f6b7"
      },
      "execution_count": 33,
      "outputs": [
        {
          "output_type": "stream",
          "name": "stdout",
          "text": [
            "\n",
            "### Training Deep Neural Network Classifier ###\n",
            "\n",
            "Epoch 1: Train Loss = 1.3866, Val Loss = 1.3863, Val Accuracy = 0.2526\n",
            "Epoch 2: Train Loss = 1.3863, Val Loss = 1.3862, Val Accuracy = 0.2574\n",
            "Epoch 3: Train Loss = 1.3862, Val Loss = 1.3860, Val Accuracy = 0.2526\n",
            "Epoch 4: Train Loss = 1.3861, Val Loss = 1.3858, Val Accuracy = 0.2574\n",
            "Epoch 5: Train Loss = 1.3859, Val Loss = 1.3856, Val Accuracy = 0.2672\n",
            "Epoch 6: Train Loss = 1.3857, Val Loss = 1.3854, Val Accuracy = 0.2666\n",
            "Epoch 7: Train Loss = 1.3854, Val Loss = 1.3852, Val Accuracy = 0.2643\n",
            "Epoch 8: Train Loss = 1.3852, Val Loss = 1.3850, Val Accuracy = 0.2593\n",
            "Epoch 9: Train Loss = 1.3850, Val Loss = 1.3846, Val Accuracy = 0.2950\n",
            "Epoch 10: Train Loss = 1.3845, Val Loss = 1.3843, Val Accuracy = 0.2841\n",
            "Epoch 11: Train Loss = 1.3843, Val Loss = 1.3839, Val Accuracy = 0.2682\n",
            "Epoch 12: Train Loss = 1.3837, Val Loss = 1.3834, Val Accuracy = 0.2984\n",
            "Epoch 13: Train Loss = 1.3831, Val Loss = 1.3827, Val Accuracy = 0.3124\n",
            "Epoch 14: Train Loss = 1.3826, Val Loss = 1.3819, Val Accuracy = 0.3267\n",
            "Epoch 15: Train Loss = 1.3822, Val Loss = 1.3810, Val Accuracy = 0.3271\n",
            "Epoch 16: Train Loss = 1.3808, Val Loss = 1.3797, Val Accuracy = 0.3368\n",
            "Epoch 17: Train Loss = 1.3792, Val Loss = 1.3781, Val Accuracy = 0.3374\n",
            "Epoch 18: Train Loss = 1.3776, Val Loss = 1.3758, Val Accuracy = 0.3601\n",
            "Epoch 19: Train Loss = 1.3756, Val Loss = 1.3728, Val Accuracy = 0.3666\n",
            "Epoch 20: Train Loss = 1.3721, Val Loss = 1.3686, Val Accuracy = 0.3739\n",
            "Epoch 21: Train Loss = 1.3678, Val Loss = 1.3632, Val Accuracy = 0.3643\n",
            "Epoch 22: Train Loss = 1.3630, Val Loss = 1.3560, Val Accuracy = 0.3712\n",
            "Epoch 23: Train Loss = 1.3564, Val Loss = 1.3474, Val Accuracy = 0.3736\n",
            "Epoch 24: Train Loss = 1.3486, Val Loss = 1.3379, Val Accuracy = 0.3791\n",
            "Epoch 25: Train Loss = 1.3414, Val Loss = 1.3281, Val Accuracy = 0.3793\n",
            "Epoch 26: Train Loss = 1.3337, Val Loss = 1.3193, Val Accuracy = 0.3854\n",
            "Epoch 27: Train Loss = 1.3259, Val Loss = 1.3107, Val Accuracy = 0.3883\n",
            "Epoch 28: Train Loss = 1.3196, Val Loss = 1.3028, Val Accuracy = 0.3974\n",
            "Epoch 29: Train Loss = 1.3120, Val Loss = 1.2942, Val Accuracy = 0.4061\n",
            "Epoch 30: Train Loss = 1.3060, Val Loss = 1.2865, Val Accuracy = 0.4129\n",
            "Epoch 31: Train Loss = 1.3003, Val Loss = 1.2783, Val Accuracy = 0.4166\n",
            "Epoch 32: Train Loss = 1.2920, Val Loss = 1.2709, Val Accuracy = 0.4212\n",
            "Epoch 33: Train Loss = 1.2852, Val Loss = 1.2649, Val Accuracy = 0.4226\n",
            "Epoch 34: Train Loss = 1.2804, Val Loss = 1.2597, Val Accuracy = 0.4282\n",
            "Epoch 35: Train Loss = 1.2756, Val Loss = 1.2551, Val Accuracy = 0.4307\n",
            "Epoch 36: Train Loss = 1.2710, Val Loss = 1.2521, Val Accuracy = 0.4341\n",
            "Epoch 37: Train Loss = 1.2709, Val Loss = 1.2484, Val Accuracy = 0.4374\n",
            "Epoch 38: Train Loss = 1.2635, Val Loss = 1.2449, Val Accuracy = 0.4404\n",
            "Epoch 39: Train Loss = 1.2590, Val Loss = 1.2412, Val Accuracy = 0.4422\n",
            "Epoch 40: Train Loss = 1.2576, Val Loss = 1.2389, Val Accuracy = 0.4436\n",
            "Epoch 41: Train Loss = 1.2531, Val Loss = 1.2349, Val Accuracy = 0.4436\n",
            "Epoch 42: Train Loss = 1.2475, Val Loss = 1.2313, Val Accuracy = 0.4468\n",
            "Epoch 43: Train Loss = 1.2463, Val Loss = 1.2281, Val Accuracy = 0.4483\n",
            "Epoch 44: Train Loss = 1.2430, Val Loss = 1.2250, Val Accuracy = 0.4499\n",
            "Epoch 45: Train Loss = 1.2388, Val Loss = 1.2218, Val Accuracy = 0.4534\n",
            "Epoch 46: Train Loss = 1.2342, Val Loss = 1.2193, Val Accuracy = 0.4549\n",
            "Epoch 47: Train Loss = 1.2317, Val Loss = 1.2153, Val Accuracy = 0.4566\n",
            "Epoch 48: Train Loss = 1.2271, Val Loss = 1.2120, Val Accuracy = 0.4580\n",
            "Epoch 49: Train Loss = 1.2242, Val Loss = 1.2093, Val Accuracy = 0.4605\n",
            "Epoch 50: Train Loss = 1.2185, Val Loss = 1.2053, Val Accuracy = 0.4609\n",
            "\n",
            "Deep Neural Network Training Completed.\n",
            "Best Validation Accuracy (Deep): 0.4609\n",
            "Final Validation Accuracy (Deep): 0.4609\n"
          ]
        }
      ]
    },
    {
      "cell_type": "code",
      "source": [
        "import pandas as pd\n",
        "\n",
        "comparison_data = {\n",
        "    \"Model\": [\"Original NN\", \"Deep NN\"],\n",
        "    \"Best Val Accuracy\": [best_nn_acc, best_deep_acc],\n",
        "    \"Final Val Accuracy\": [final_nn_acc, final_deep_acc]\n",
        "}\n",
        "comparison_df = pd.DataFrame(comparison_data)\n",
        "print(\"Comparison of Neural Network Models:\")\n",
        "print(comparison_df)"
      ],
      "metadata": {
        "id": "varf5hmIN3CL",
        "colab": {
          "base_uri": "https://localhost:8080/"
        },
        "outputId": "9cb666d9-06c7-42b5-c24f-1927ce743d39"
      },
      "execution_count": 34,
      "outputs": [
        {
          "output_type": "stream",
          "name": "stdout",
          "text": [
            "Comparison of Neural Network Models:\n",
            "         Model  Best Val Accuracy  Final Val Accuracy\n",
            "0  Original NN           0.581974            0.581974\n",
            "1      Deep NN           0.460921            0.460921\n"
          ]
        }
      ]
    },
    {
      "cell_type": "markdown",
      "metadata": {
        "id": "x9VvQi2EUAEP"
      },
      "source": [
        "## 3.5 - Visualization and Summary\n",
        "We plot the training and validation loss curves. In addition, note that evaluation metrics such as precision, recall, and F1-score (as well as a confusion matrix) should be computed for a thorough evaluation. For language model-based approaches, perplexity would also be computed.\n"
      ]
    },
    {
      "cell_type": "code",
      "execution_count": 35,
      "metadata": {
        "id": "0F0bMHLxi_z_",
        "colab": {
          "base_uri": "https://localhost:8080/",
          "height": 487
        },
        "outputId": "37f86217-cdcd-47af-8457-2d8e51089dd0"
      },
      "outputs": [
        {
          "output_type": "display_data",
          "data": {
            "text/plain": [
              "<Figure size 800x500 with 1 Axes>"
            ],
            "image/png": "[encoded data removed]"
          },
          "metadata": {}
        }
      ],
      "source": [
        "plt.figure(figsize=(8, 5))\n",
        "plt.plot(range(1, num_epochs+1), train_losses, color=\"red\", label=\"Training Loss\")\n",
        "plt.plot(range(1, num_epochs+1), val_losses, color=\"blue\", label=\"Validation Loss\")\n",
        "\n",
        "plt.plot(range(1, num_epochs+1), deep_train_losses, color=\"green\", label=\"Training Loss-DeepNeuralNetwork\")\n",
        "plt.plot(range(1, num_epochs+1), deep_val_losses, color=\"black\", label=\"Validation Loss-DeepNeuralNetwork\")\n",
        "\n",
        "plt.xlabel(\"Epoch\")\n",
        "plt.ylabel(\"Loss\")\n",
        "plt.title(\"Training vs. Validation Loss\")\n",
        "plt.legend()\n",
        "plt.show()"
      ]
    },
    {
      "cell_type": "markdown",
      "source": [
        "# 4 - Additional Experiments and Quantitative Analysis\n",
        "This section performs further analysis on the dataset:\n",
        "1. Plotting the frequency distribution of words (to check Zipf’s law).\n",
        "2. Generating word embeddings using Word2Vec and displaying similar words.\n",
        "3. Summarizing performance metrics in a table."
      ],
      "metadata": {
        "id": "9s17oFTJjdQR"
      }
    },
    {
      "cell_type": "markdown",
      "source": [
        "## 4.1 - Frequency Distribution Plot"
      ],
      "metadata": {
        "id": "hokGDq2tjwfn"
      }
    },
    {
      "cell_type": "code",
      "source": [
        "# Flatten all tokens from training texts (using simple whitespace split)\n",
        "all_tokens = []\n",
        "for text in train_texts:\n",
        "    all_tokens.extend(text.lower().split())\n",
        "\n",
        "token_counts = Counter(all_tokens)\n",
        "\n",
        "# Sort tokens by frequency\n",
        "sorted_counts = sorted(token_counts.items(), key=lambda x: x[1], reverse=True)\n",
        "tokens, frequencies = zip(*sorted_counts)\n",
        "\n",
        "# Plot rank-frequency (log-log scale)\n",
        "ranks = range(1, len(frequencies) + 1)\n",
        "\n",
        "plt.figure(figsize=(8, 5))\n",
        "plt.loglog(ranks, frequencies, marker=\".\")\n",
        "plt.xlabel(\"Rank\")\n",
        "plt.ylabel(\"Frequency\")\n",
        "plt.title(\"Word Frequency Distribution (Zipf's Law)\")\n",
        "plt.show()"
      ],
      "metadata": {
        "id": "za6b1IZWj1RR",
        "colab": {
          "base_uri": "https://localhost:8080/",
          "height": 492
        },
        "outputId": "6b9dcd76-5c30-4699-8ae9-e9571bfadb25"
      },
      "execution_count": 36,
      "outputs": [
        {
          "output_type": "display_data",
          "data": {
            "text/plain": [
              "<Figure size 800x500 with 1 Axes>"
            ],
            "image/png": "[encoded data removed]"
          },
          "metadata": {}
        }
      ]
    },
    {
      "cell_type": "markdown",
      "source": [
        "Frequency INVERSLY PROPORTIONAL to Rank\n",
        "\n",
        "Hence, model follows Zipf's Law"
      ],
      "metadata": {
        "id": "9p86lD-2LSPC"
      }
    },
    {
      "cell_type": "markdown",
      "source": [
        "##4.2 Word Embeddings using Word2Vec"
      ],
      "metadata": {
        "id": "JAC4I-rskieg"
      }
    },
    {
      "cell_type": "code",
      "source": [
        "!pip install gensim"
      ],
      "metadata": {
        "id": "yFoxlWBPkqVy",
        "colab": {
          "base_uri": "https://localhost:8080/"
        },
        "outputId": "1f61e979-ead4-43fd-9684-3b7a850b3bd4"
      },
      "execution_count": 37,
      "outputs": [
        {
          "output_type": "stream",
          "name": "stdout",
          "text": [
            "Requirement already satisfied: gensim in /usr/local/lib/python3.11/dist-packages (4.3.3)\n",
            "Requirement already satisfied: numpy<2.0,>=1.18.5 in /usr/local/lib/python3.11/dist-packages (from gensim) (1.26.4)\n",
            "Requirement already satisfied: scipy<1.14.0,>=1.7.0 in /usr/local/lib/python3.11/dist-packages (from gensim) (1.13.1)\n",
            "Requirement already satisfied: smart-open>=1.8.1 in /usr/local/lib/python3.11/dist-packages (from gensim) (7.1.0)\n",
            "Requirement already satisfied: wrapt in /usr/local/lib/python3.11/dist-packages (from smart-open>=1.8.1->gensim) (1.17.2)\n"
          ]
        }
      ]
    },
    {
      "cell_type": "code",
      "source": [
        "from gensim.models import Word2Vec\n",
        "\n",
        "# Tokenize the training texts (simple whitespace split)\n",
        "tokenized_texts = [text.lower().split() for text in train_texts]\n",
        "\n",
        "# Train Word2Vec model (using a small dimension for demonstration)\n",
        "w2v_model = Word2Vec(sentences=tokenized_texts, vector_size=50, window=5, min_count=3, workers=4, seed=42)\n",
        "\n",
        "# Display top 5 similar words for selected keywords\n",
        "keywords = [\"economy\", \"games\", \"technology\", \"market\"]\n",
        "for word in keywords:\n",
        "    if word in w2v_model.wv:\n",
        "        similar = w2v_model.wv.most_similar(word, topn=5)\n",
        "        print(f\"\\nTop similar words to '{word}':\")\n",
        "        for sim_word, score in similar:\n",
        "            print(f\"  {sim_word}: {score:.4f}\")\n",
        "    else:\n",
        "        print(f\"\\n'{word}' not found in vocabulary.\")\n"
      ],
      "metadata": {
        "id": "my2-hFuikmu8",
        "colab": {
          "base_uri": "https://localhost:8080/"
        },
        "outputId": "b7ea678b-adc2-48e3-ff1a-aa9fd9eeb274"
      },
      "execution_count": 38,
      "outputs": [
        {
          "output_type": "stream",
          "name": "stdout",
          "text": [
            "\n",
            "Top similar words to 'economy':\n",
            "  economic: 0.9237\n",
            "  growth: 0.8962\n",
            "  spending: 0.8841\n",
            "  slowing: 0.8836\n",
            "  rising: 0.8740\n",
            "\n",
            "Top similar words to 'games':\n",
            "  teams: 0.9222\n",
            "  playing: 0.8808\n",
            "  games.: 0.8711\n",
            "  game: 0.8678\n",
            "  seasons: 0.8509\n",
            "\n",
            "Top similar words to 'technology':\n",
            "  services: 0.9440\n",
            "  software: 0.9433\n",
            "  products: 0.9402\n",
            "  service: 0.9287\n",
            "  management: 0.9242\n",
            "\n",
            "Top similar words to 'market':\n",
            "  price: 0.9097\n",
            "  data: 0.8791\n",
            "  share: 0.8752\n",
            "  consumer: 0.8687\n",
            "  stock: 0.8657\n"
          ]
        }
      ]
    },
    {
      "cell_type": "markdown",
      "source": [
        "## 4.3 Performance Comparison Table"
      ],
      "metadata": {
        "id": "tPgOZic9mdH3"
      }
    },
    {
      "cell_type": "code",
      "source": [
        "# Create a summary table for performance metrics\n",
        "import pandas as pd\n",
        "\n",
        "# We have baseline (lr_reg) and neural network (model_nn) performance metrics.\n",
        "# Here we use the test accuracy from earlier experiments.\n",
        "performance_data = {\n",
        "    \"Model\": [\"Logistic Regression (With Reg)\", \"Neural Network\"],\n",
        "    \"Test Accuracy\": [test_acc_reg, val_accuracies[-1]]\n",
        "}\n",
        "\n",
        "performance_df = pd.DataFrame(performance_data)\n",
        "print(\"Performance Comparison:\")\n",
        "print(performance_df)"
      ],
      "metadata": {
        "id": "ww5_VHS5miop",
        "colab": {
          "base_uri": "https://localhost:8080/"
        },
        "outputId": "2060e7fb-114e-4ead-a3c1-4179b5ef2546"
      },
      "execution_count": 39,
      "outputs": [
        {
          "output_type": "stream",
          "name": "stdout",
          "text": [
            "Performance Comparison:\n",
            "                            Model  Test Accuracy\n",
            "0  Logistic Regression (With Reg)       0.899211\n",
            "1                  Neural Network       0.581974\n"
          ]
        }
      ]
    },
    {
      "cell_type": "markdown",
      "source": [
        "# 5 - Error Analysis - Misclassified Headlines (Logistic Regression with Reg)\n",
        "Below, we discuss examples where the models fail. For instance, consider headlines that are misclassified by the baseline model.\n"
      ],
      "metadata": {
        "id": "hvy6iMKimqJ7"
      }
    },
    {
      "cell_type": "code",
      "source": [
        "# For demonstration, print 5 misclassified examples from logistic regression with regularization\n",
        "misclassified = []\n",
        "for text, true_label, pred_label in zip(test_texts, test_labels, test_preds_reg):\n",
        "    if true_label != pred_label:\n",
        "        misclassified.append((text, true_label, pred_label))\n",
        "    if len(misclassified) >= 5:\n",
        "        break\n",
        "\n",
        "print(\"Examples of Misclassified Headlines (Logistic Regression with Reg):\")\n",
        "for idx, (text, true_label, pred_label) in enumerate(misclassified, start=1):\n",
        "    print(f\"\\nExample {idx}:\")\n",
        "    print(f\"Headline: {text}\")\n",
        "    print(f\"True Label: {true_label} ({label_names[true_label]})\")\n",
        "    print(f\"Predicted Label: {pred_label} ({label_names[pred_label]})\")"
      ],
      "metadata": {
        "id": "Ga8EDBSlmzjy",
        "colab": {
          "base_uri": "https://localhost:8080/"
        },
        "outputId": "8fcf8bce-b0ed-45e5-cc1f-bc29f1330bed"
      },
      "execution_count": 40,
      "outputs": [
        {
          "output_type": "stream",
          "name": "stdout",
          "text": [
            "Examples of Misclassified Headlines (Logistic Regression with Reg):\n",
            "\n",
            "Example 1:\n",
            "Headline: Prediction Unit Helps Forecast Wildfires (AP) AP - It's barely dawn when Mike Fitzpatrick starts his shift with a blur of colorful maps, figures and endless charts, but already he knows what the day will bring. Lightning will strike in places he expects. Winds will pick up, moist places will dry and flames will roar.\n",
            "True Label: 3 (Sci/Tech)\n",
            "Predicted Label: 1 (Sports)\n",
            "\n",
            "Example 2:\n",
            "Headline: Teenage T. rex's monster growth Tyrannosaurus rex achieved its massive size due to an enormous growth spurt during its adolescent years.\n",
            "True Label: 3 (Sci/Tech)\n",
            "Predicted Label: 2 (Business)\n",
            "\n",
            "Example 3:\n",
            "Headline: Storage, servers bruise HP earnings update Earnings per share rise compared with a year ago, but company misses analysts' expectations by a long shot.\n",
            "True Label: 3 (Sci/Tech)\n",
            "Predicted Label: 2 (Business)\n",
            "\n",
            "Example 4:\n",
            "Headline: IBM to hire even more new workers By the end of the year, the computing giant plans to have its biggest headcount since 1991.\n",
            "True Label: 3 (Sci/Tech)\n",
            "Predicted Label: 2 (Business)\n",
            "\n",
            "Example 5:\n",
            "Headline: Some People Not Eligible to Get in on Google IPO Google has billed its IPO as a way for everyday people to get in on the process, denying Wall Street the usual stranglehold it's had on IPOs. Public bidding, a minimum of just five shares, an open process with 28 underwriters - all this pointed to a new level of public participation. But this isn't the case.\n",
            "True Label: 3 (Sci/Tech)\n",
            "Predicted Label: 2 (Business)\n"
          ]
        }
      ]
    },
    {
      "cell_type": "markdown",
      "source": [
        "# Add more models here\n",
        "\n",
        "Compare our models with models that are already in the market e.g. XGBOOST, RandomForest\n",
        "\n",
        "Find standard/best methods to report results"
      ],
      "metadata": {
        "id": "IGxzjR7YKg9-"
      }
    },
    {
      "cell_type": "markdown",
      "source": [
        "# 6 - State-of-the-Art Models – XGBoost and RandomForest\n",
        "\n",
        "This section uses the CountVectorizer features (X_train, X_test) to train XGBoost and RandomForest classifiers."
      ],
      "metadata": {
        "id": "U1ja-TZqDQb8"
      }
    },
    {
      "cell_type": "code",
      "source": [
        "!pip install xgboost"
      ],
      "metadata": {
        "colab": {
          "base_uri": "https://localhost:8080/"
        },
        "id": "GHJb2Q-5EQ2y",
        "outputId": "cd41da27-3e98-4cb2-d925-825ced6c80b9"
      },
      "execution_count": 41,
      "outputs": [
        {
          "output_type": "stream",
          "name": "stdout",
          "text": [
            "Collecting xgboost\n",
            "  Downloading xgboost-3.0.0-py3-none-manylinux_2_28_x86_64.whl.metadata (2.1 kB)\n",
            "Requirement already satisfied: numpy in /usr/local/lib/python3.11/dist-packages (from xgboost) (1.26.4)\n",
            "Collecting nvidia-nccl-cu12 (from xgboost)\n",
            "  Downloading nvidia_nccl_cu12-2.26.2-py3-none-manylinux2014_x86_64.manylinux_2_17_x86_64.whl.metadata (2.0 kB)\n",
            "Requirement already satisfied: scipy in /usr/local/lib/python3.11/dist-packages (from xgboost) (1.13.1)\n",
            "Downloading xgboost-3.0.0-py3-none-manylinux_2_28_x86_64.whl (253.9 MB)\n",
            "\u001b[2K   \u001b[90m━━━━━━━━━━━━━━━━━━━━━━━━━━━━━━━━━━━━━━━━\u001b[0m \u001b[32m253.9/253.9 MB\u001b[0m \u001b[31m4.1 MB/s\u001b[0m eta \u001b[36m0:00:00\u001b[0m\n",
            "\u001b[?25hDownloading nvidia_nccl_cu12-2.26.2-py3-none-manylinux2014_x86_64.manylinux_2_17_x86_64.whl (201.3 MB)\n",
            "\u001b[2K   \u001b[90m━━━━━━━━━━━━━━━━━━━━━━━━━━━━━━━━━━━━━━━━\u001b[0m \u001b[32m201.3/201.3 MB\u001b[0m \u001b[31m5.3 MB/s\u001b[0m eta \u001b[36m0:00:00\u001b[0m\n",
            "\u001b[?25hInstalling collected packages: nvidia-nccl-cu12, xgboost\n",
            "Successfully installed nvidia-nccl-cu12-2.26.2 xgboost-3.0.0\n"
          ]
        }
      ]
    },
    {
      "cell_type": "code",
      "source": [
        "from xgboost import XGBClassifier\n",
        "from sklearn.ensemble import RandomForestClassifier\n",
        "\n",
        "# XGBoost Classifier\n",
        "xgb_clf = XGBClassifier(use_label_encoder=False, eval_metric='mlogloss', random_state=42)\n",
        "xgb_clf.fit(X_train, train_labels)\n",
        "xgb_test_preds = xgb_clf.predict(X_test)\n",
        "xgb_test_acc = accuracy_score(test_labels, xgb_test_preds)\n",
        "print(\"XGBoost Test Accuracy: {:.4f}\".format(xgb_test_acc))\n",
        "\n",
        "# RandomForest Classifier\n",
        "rf_clf = RandomForestClassifier(random_state=42)\n",
        "rf_clf.fit(X_train, train_labels)\n",
        "rf_test_preds = rf_clf.predict(X_test)\n",
        "rf_test_acc = accuracy_score(test_labels, rf_test_preds)\n",
        "print(\"RandomForest Test Accuracy: {:.4f}\".format(rf_test_acc))\n"
      ],
      "metadata": {
        "colab": {
          "base_uri": "https://localhost:8080/"
        },
        "id": "GA74aYY1EO1A",
        "outputId": "42ae2bdf-3b35-4acf-992b-9fa8d98f5eaf"
      },
      "execution_count": 42,
      "outputs": [
        {
          "output_type": "stream",
          "name": "stderr",
          "text": [
            "/usr/local/lib/python3.11/dist-packages/xgboost/training.py:183: UserWarning: [10:44:06] WARNING: /workspace/src/learner.cc:738: \n",
            "Parameters: { \"use_label_encoder\" } are not used.\n",
            "\n",
            "  bst.update(dtrain, iteration=i, fobj=obj)\n"
          ]
        },
        {
          "output_type": "stream",
          "name": "stdout",
          "text": [
            "XGBoost Test Accuracy: 0.8793\n",
            "RandomForest Test Accuracy: 0.8579\n"
          ]
        }
      ]
    },
    {
      "cell_type": "markdown",
      "source": [
        "# 7 - LSTM Approach 2\n"
      ],
      "metadata": {
        "id": "WdRiAbXcJQWV"
      }
    },
    {
      "cell_type": "markdown",
      "source": [
        "## 7.1 - Data Preprocessing\n",
        "\n",
        "Here we load the required libraries we will be using for the LSTM model implementation, and pre process the data"
      ],
      "metadata": {
        "id": "fGGsNNwsJTIV"
      }
    },
    {
      "cell_type": "code",
      "source": [
        "!pip install tensorflow\n",
        "!pip install torch\n",
        "!pip install torchtext\n",
        "\n",
        "!pip install tqdm"
      ],
      "metadata": {
        "colab": {
          "base_uri": "https://localhost:8080/"
        },
        "collapsed": true,
        "id": "JT78Rj96JWZJ",
        "outputId": "570e45d3-0e03-4878-f913-c10660a2342b"
      },
      "execution_count": 43,
      "outputs": [
        {
          "output_type": "stream",
          "name": "stdout",
          "text": [
            "Collecting tensorflow\n",
            "  Downloading tensorflow-2.19.0-cp311-cp311-manylinux_2_17_x86_64.manylinux2014_x86_64.whl.metadata (4.1 kB)\n",
            "Requirement already satisfied: absl-py>=1.0.0 in /usr/local/lib/python3.11/dist-packages (from tensorflow) (1.4.0)\n",
            "Collecting astunparse>=1.6.0 (from tensorflow)\n",
            "  Downloading astunparse-1.6.3-py2.py3-none-any.whl.metadata (4.4 kB)\n",
            "Collecting flatbuffers>=24.3.25 (from tensorflow)\n",
            "  Downloading flatbuffers-25.2.10-py2.py3-none-any.whl.metadata (875 bytes)\n",
            "Requirement already satisfied: gast!=0.5.0,!=0.5.1,!=0.5.2,>=0.2.1 in /usr/local/lib/python3.11/dist-packages (from tensorflow) (0.6.0)\n",
            "Collecting google-pasta>=0.1.1 (from tensorflow)\n",
            "  Downloading google_pasta-0.2.0-py3-none-any.whl.metadata (814 bytes)\n",
            "Collecting libclang>=13.0.0 (from tensorflow)\n",
            "  Downloading libclang-18.1.1-py2.py3-none-manylinux2010_x86_64.whl.metadata (5.2 kB)\n",
            "Requirement already satisfied: opt-einsum>=2.3.2 in /usr/local/lib/python3.11/dist-packages (from tensorflow) (3.4.0)\n",
            "Requirement already satisfied: packaging in /usr/local/lib/python3.11/dist-packages (from tensorflow) (24.2)\n",
            "Requirement already satisfied: protobuf!=4.21.0,!=4.21.1,!=4.21.2,!=4.21.3,!=4.21.4,!=4.21.5,<6.0.0dev,>=3.20.3 in /usr/local/lib/python3.11/dist-packages (from tensorflow) (5.29.4)\n",
            "Requirement already satisfied: requests<3,>=2.21.0 in /usr/local/lib/python3.11/dist-packages (from tensorflow) (2.32.3)\n",
            "Requirement already satisfied: setuptools in /usr/local/lib/python3.11/dist-packages (from tensorflow) (75.2.0)\n",
            "Requirement already satisfied: six>=1.12.0 in /usr/local/lib/python3.11/dist-packages (from tensorflow) (1.17.0)\n",
            "Requirement already satisfied: termcolor>=1.1.0 in /usr/local/lib/python3.11/dist-packages (from tensorflow) (3.0.1)\n",
            "Requirement already satisfied: typing-extensions>=3.6.6 in /usr/local/lib/python3.11/dist-packages (from tensorflow) (4.13.0)\n",
            "Requirement already satisfied: wrapt>=1.11.0 in /usr/local/lib/python3.11/dist-packages (from tensorflow) (1.17.2)\n",
            "Requirement already satisfied: grpcio<2.0,>=1.24.3 in /usr/local/lib/python3.11/dist-packages (from tensorflow) (1.71.0)\n",
            "Collecting tensorboard~=2.19.0 (from tensorflow)\n",
            "  Downloading tensorboard-2.19.0-py3-none-any.whl.metadata (1.8 kB)\n",
            "Requirement already satisfied: keras>=3.5.0 in /usr/local/lib/python3.11/dist-packages (from tensorflow) (3.8.0)\n",
            "Requirement already satisfied: numpy<2.2.0,>=1.26.0 in /usr/local/lib/python3.11/dist-packages (from tensorflow) (1.26.4)\n",
            "Requirement already satisfied: h5py>=3.11.0 in /usr/local/lib/python3.11/dist-packages (from tensorflow) (3.13.0)\n",
            "Requirement already satisfied: ml-dtypes<1.0.0,>=0.5.1 in /usr/local/lib/python3.11/dist-packages (from tensorflow) (0.5.1)\n",
            "Collecting tensorflow-io-gcs-filesystem>=0.23.1 (from tensorflow)\n",
            "  Downloading tensorflow_io_gcs_filesystem-0.37.1-cp311-cp311-manylinux_2_17_x86_64.manylinux2014_x86_64.whl.metadata (14 kB)\n",
            "Collecting wheel<1.0,>=0.23.0 (from astunparse>=1.6.0->tensorflow)\n",
            "  Downloading wheel-0.45.1-py3-none-any.whl.metadata (2.3 kB)\n",
            "Requirement already satisfied: rich in /usr/local/lib/python3.11/dist-packages (from keras>=3.5.0->tensorflow) (14.0.0)\n",
            "Requirement already satisfied: namex in /usr/local/lib/python3.11/dist-packages (from keras>=3.5.0->tensorflow) (0.0.8)\n",
            "Requirement already satisfied: optree in /usr/local/lib/python3.11/dist-packages (from keras>=3.5.0->tensorflow) (0.14.1)\n",
            "Requirement already satisfied: charset-normalizer<4,>=2 in /usr/local/lib/python3.11/dist-packages (from requests<3,>=2.21.0->tensorflow) (3.4.1)\n",
            "Requirement already satisfied: idna<4,>=2.5 in /usr/local/lib/python3.11/dist-packages (from requests<3,>=2.21.0->tensorflow) (3.10)\n",
            "Requirement already satisfied: urllib3<3,>=1.21.1 in /usr/local/lib/python3.11/dist-packages (from requests<3,>=2.21.0->tensorflow) (2.3.0)\n",
            "Requirement already satisfied: certifi>=2017.4.17 in /usr/local/lib/python3.11/dist-packages (from requests<3,>=2.21.0->tensorflow) (2025.1.31)\n",
            "Requirement already satisfied: markdown>=2.6.8 in /usr/lib/python3/dist-packages (from tensorboard~=2.19.0->tensorflow) (3.3.6)\n",
            "Collecting tensorboard-data-server<0.8.0,>=0.7.0 (from tensorboard~=2.19.0->tensorflow)\n",
            "  Downloading tensorboard_data_server-0.7.2-py3-none-manylinux_2_31_x86_64.whl.metadata (1.1 kB)\n",
            "Collecting werkzeug>=1.0.1 (from tensorboard~=2.19.0->tensorflow)\n",
            "  Downloading werkzeug-3.1.3-py3-none-any.whl.metadata (3.7 kB)\n",
            "Requirement already satisfied: MarkupSafe>=2.1.1 in /usr/local/lib/python3.11/dist-packages (from werkzeug>=1.0.1->tensorboard~=2.19.0->tensorflow) (3.0.2)\n",
            "Requirement already satisfied: markdown-it-py>=2.2.0 in /usr/local/lib/python3.11/dist-packages (from rich->keras>=3.5.0->tensorflow) (3.0.0)\n",
            "Requirement already satisfied: pygments<3.0.0,>=2.13.0 in /usr/local/lib/python3.11/dist-packages (from rich->keras>=3.5.0->tensorflow) (2.19.1)\n",
            "Requirement already satisfied: mdurl~=0.1 in /usr/local/lib/python3.11/dist-packages (from markdown-it-py>=2.2.0->rich->keras>=3.5.0->tensorflow) (0.1.2)\n",
            "Downloading tensorflow-2.19.0-cp311-cp311-manylinux_2_17_x86_64.manylinux2014_x86_64.whl (644.9 MB)\n",
            "\u001b[2K   \u001b[90m━━━━━━━━━━━━━━━━━━━━━━━━━━━━━━━━━━━━━━━━\u001b[0m \u001b[32m644.9/644.9 MB\u001b[0m \u001b[31m1.6 MB/s\u001b[0m eta \u001b[36m0:00:00\u001b[0m\n",
            "\u001b[?25hDownloading astunparse-1.6.3-py2.py3-none-any.whl (12 kB)\n",
            "Downloading flatbuffers-25.2.10-py2.py3-none-any.whl (30 kB)\n",
            "Downloading google_pasta-0.2.0-py3-none-any.whl (57 kB)\n",
            "\u001b[2K   \u001b[90m━━━━━━━━━━━━━━━━━━━━━━━━━━━━━━━━━━━━━━━━\u001b[0m \u001b[32m57.5/57.5 kB\u001b[0m \u001b[31m4.3 MB/s\u001b[0m eta \u001b[36m0:00:00\u001b[0m\n",
            "\u001b[?25hDownloading libclang-18.1.1-py2.py3-none-manylinux2010_x86_64.whl (24.5 MB)\n",
            "\u001b[2K   \u001b[90m━━━━━━━━━━━━━━━━━━━━━━━━━━━━━━━━━━━━━━━━\u001b[0m \u001b[32m24.5/24.5 MB\u001b[0m \u001b[31m70.3 MB/s\u001b[0m eta \u001b[36m0:00:00\u001b[0m\n",
            "\u001b[?25hDownloading tensorboard-2.19.0-py3-none-any.whl (5.5 MB)\n",
            "\u001b[2K   \u001b[90m━━━━━━━━━━━━━━━━━━━━━━━━━━━━━━━━━━━━━━━━\u001b[0m \u001b[32m5.5/5.5 MB\u001b[0m \u001b[31m100.7 MB/s\u001b[0m eta \u001b[36m0:00:00\u001b[0m\n",
            "\u001b[?25hDownloading tensorflow_io_gcs_filesystem-0.37.1-cp311-cp311-manylinux_2_17_x86_64.manylinux2014_x86_64.whl (5.1 MB)\n",
            "\u001b[2K   \u001b[90m━━━━━━━━━━━━━━━━━━━━━━━━━━━━━━━━━━━━━━━━\u001b[0m \u001b[32m5.1/5.1 MB\u001b[0m \u001b[31m96.5 MB/s\u001b[0m eta \u001b[36m0:00:00\u001b[0m\n",
            "\u001b[?25hDownloading tensorboard_data_server-0.7.2-py3-none-manylinux_2_31_x86_64.whl (6.6 MB)\n",
            "\u001b[2K   \u001b[90m━━━━━━━━━━━━━━━━━━━━━━━━━━━━━━━━━━━━━━━━\u001b[0m \u001b[32m6.6/6.6 MB\u001b[0m \u001b[31m108.0 MB/s\u001b[0m eta \u001b[36m0:00:00\u001b[0m\n",
            "\u001b[?25hDownloading werkzeug-3.1.3-py3-none-any.whl (224 kB)\n",
            "\u001b[2K   \u001b[90m━━━━━━━━━━━━━━━━━━━━━━━━━━━━━━━━━━━━━━━━\u001b[0m \u001b[32m224.5/224.5 kB\u001b[0m \u001b[31m15.2 MB/s\u001b[0m eta \u001b[36m0:00:00\u001b[0m\n",
            "\u001b[?25hDownloading wheel-0.45.1-py3-none-any.whl (72 kB)\n",
            "\u001b[2K   \u001b[90m━━━━━━━━━━━━━━━━━━━━━━━━━━━━━━━━━━━━━━━━\u001b[0m \u001b[32m72.5/72.5 kB\u001b[0m \u001b[31m5.3 MB/s\u001b[0m eta \u001b[36m0:00:00\u001b[0m\n",
            "\u001b[?25hInstalling collected packages: libclang, flatbuffers, wheel, werkzeug, tensorflow-io-gcs-filesystem, tensorboard-data-server, google-pasta, tensorboard, astunparse, tensorflow\n",
            "Successfully installed astunparse-1.6.3 flatbuffers-25.2.10 google-pasta-0.2.0 libclang-18.1.1 tensorboard-2.19.0 tensorboard-data-server-0.7.2 tensorflow-2.19.0 tensorflow-io-gcs-filesystem-0.37.1 werkzeug-3.1.3 wheel-0.45.1\n",
            "Requirement already satisfied: torch in /usr/local/lib/python3.11/dist-packages (2.6.0+cpu)\n",
            "Requirement already satisfied: filelock in /usr/local/lib/python3.11/dist-packages (from torch) (3.18.0)\n",
            "Requirement already satisfied: typing-extensions>=4.10.0 in /usr/local/lib/python3.11/dist-packages (from torch) (4.13.0)\n",
            "Requirement already satisfied: networkx in /usr/local/lib/python3.11/dist-packages (from torch) (3.4.2)\n",
            "Requirement already satisfied: jinja2 in /usr/local/lib/python3.11/dist-packages (from torch) (3.1.6)\n",
            "Requirement already satisfied: fsspec in /usr/local/lib/python3.11/dist-packages (from torch) (2024.12.0)\n",
            "Requirement already satisfied: sympy==1.13.1 in /usr/local/lib/python3.11/dist-packages (from torch) (1.13.1)\n",
            "Requirement already satisfied: mpmath<1.4,>=1.1.0 in /usr/local/lib/python3.11/dist-packages (from sympy==1.13.1->torch) (1.3.0)\n",
            "Requirement already satisfied: MarkupSafe>=2.0 in /usr/local/lib/python3.11/dist-packages (from jinja2->torch) (3.0.2)\n",
            "Collecting torchtext\n",
            "  Downloading torchtext-0.18.0-cp311-cp311-manylinux1_x86_64.whl.metadata (7.9 kB)\n",
            "Requirement already satisfied: tqdm in /usr/local/lib/python3.11/dist-packages (from torchtext) (4.67.1)\n",
            "Requirement already satisfied: requests in /usr/local/lib/python3.11/dist-packages (from torchtext) (2.32.3)\n",
            "Requirement already satisfied: torch>=2.3.0 in /usr/local/lib/python3.11/dist-packages (from torchtext) (2.6.0+cpu)\n",
            "Requirement already satisfied: numpy in /usr/local/lib/python3.11/dist-packages (from torchtext) (1.26.4)\n",
            "Requirement already satisfied: filelock in /usr/local/lib/python3.11/dist-packages (from torch>=2.3.0->torchtext) (3.18.0)\n",
            "Requirement already satisfied: typing-extensions>=4.10.0 in /usr/local/lib/python3.11/dist-packages (from torch>=2.3.0->torchtext) (4.13.0)\n",
            "Requirement already satisfied: networkx in /usr/local/lib/python3.11/dist-packages (from torch>=2.3.0->torchtext) (3.4.2)\n",
            "Requirement already satisfied: jinja2 in /usr/local/lib/python3.11/dist-packages (from torch>=2.3.0->torchtext) (3.1.6)\n",
            "Requirement already satisfied: fsspec in /usr/local/lib/python3.11/dist-packages (from torch>=2.3.0->torchtext) (2024.12.0)\n",
            "Requirement already satisfied: sympy==1.13.1 in /usr/local/lib/python3.11/dist-packages (from torch>=2.3.0->torchtext) (1.13.1)\n",
            "Requirement already satisfied: mpmath<1.4,>=1.1.0 in /usr/local/lib/python3.11/dist-packages (from sympy==1.13.1->torch>=2.3.0->torchtext) (1.3.0)\n",
            "Requirement already satisfied: charset-normalizer<4,>=2 in /usr/local/lib/python3.11/dist-packages (from requests->torchtext) (3.4.1)\n",
            "Requirement already satisfied: idna<4,>=2.5 in /usr/local/lib/python3.11/dist-packages (from requests->torchtext) (3.10)\n",
            "Requirement already satisfied: urllib3<3,>=1.21.1 in /usr/local/lib/python3.11/dist-packages (from requests->torchtext) (2.3.0)\n",
            "Requirement already satisfied: certifi>=2017.4.17 in /usr/local/lib/python3.11/dist-packages (from requests->torchtext) (2025.1.31)\n",
            "Requirement already satisfied: MarkupSafe>=2.0 in /usr/local/lib/python3.11/dist-packages (from jinja2->torch>=2.3.0->torchtext) (3.0.2)\n",
            "Downloading torchtext-0.18.0-cp311-cp311-manylinux1_x86_64.whl (2.0 MB)\n",
            "\u001b[2K   \u001b[90m━━━━━━━━━━━━━━━━━━━━━━━━━━━━━━━━━━━━━━━━\u001b[0m \u001b[32m2.0/2.0 MB\u001b[0m \u001b[31m24.2 MB/s\u001b[0m eta \u001b[36m0:00:00\u001b[0m\n",
            "\u001b[?25hInstalling collected packages: torchtext\n",
            "Successfully installed torchtext-0.18.0\n",
            "Requirement already satisfied: tqdm in /usr/local/lib/python3.11/dist-packages (4.67.1)\n"
          ]
        }
      ]
    },
    {
      "cell_type": "code",
      "source": [
        "import torch\n",
        "import torch.nn as nn\n",
        "import torch.optim as optim\n",
        "import torch.nn.functional as F\n",
        "from torch.utils.data import Dataset, DataLoader\n",
        "import numpy as np\n",
        "import pandas as pd\n",
        "import random\n",
        "\n",
        "from collections import Counter\n",
        "import matplotlib.pyplot as plt\n",
        "from datasets import load_dataset\n",
        "from sklearn.metrics import accuracy_score, classification_report, confusion_matrix\n",
        "from sklearn.model_selection import train_test_split"
      ],
      "metadata": {
        "id": "9eKd68EOJXB8"
      },
      "execution_count": 44,
      "outputs": []
    },
    {
      "cell_type": "code",
      "source": [
        "# Load the AG News dataset from Hugging Face\n",
        "dataset = load_dataset(\"fancyzhx/ag_news\")\n",
        "\n",
        "# Convert the train and test datasets to pandas DataFrames\n",
        "df_train = pd.DataFrame(dataset['train'])\n",
        "df_test = pd.DataFrame(dataset['test'])\n",
        "\n",
        "# Print basic dataset info\n",
        "print(\"Training Set Label Distribution:\", df_train['label'].value_counts())\n",
        "print(\"Testing Set Label Distribution:\", df_test['label'].value_counts())\n",
        "\n",
        "# Extract texts and labels (we are using the full set here; optionally, you could slice)\n",
        "train_texts = [example[\"text\"] for example in dataset[\"train\"]]\n",
        "train_labels = [example[\"label\"] for example in dataset[\"train\"]]\n",
        "\n",
        "test_texts = [example[\"text\"] for example in dataset[\"test\"]]\n",
        "test_labels = [example[\"label\"] for example in dataset[\"test\"]]\n",
        "\n",
        "# Slicing the dataset to 30k rows\n",
        "random.seed(42)\n",
        "\n",
        "indices = list(range(len(train_texts)))\n",
        "random.shuffle(indices)\n",
        "\n",
        "slice_indices = indices[:30000]  # Select 30k rows (approx. 25%)\n",
        "\n",
        "train_texts = [train_texts[i] for i in slice_indices]\n",
        "train_labels = [train_labels[i] for i in slice_indices]\n",
        "\n",
        "print(f\"Using {len(train_texts)} training examples for experiments.\")\n"
      ],
      "metadata": {
        "id": "Ig-W-EggKGMj",
        "colab": {
          "base_uri": "https://localhost:8080/"
        },
        "outputId": "3a249fe5-1a2b-4e82-cbff-9627f713c3e5"
      },
      "execution_count": 45,
      "outputs": [
        {
          "output_type": "stream",
          "name": "stdout",
          "text": [
            "Training Set Label Distribution: label\n",
            "2    30000\n",
            "3    30000\n",
            "1    30000\n",
            "0    30000\n",
            "Name: count, dtype: int64\n",
            "Testing Set Label Distribution: label\n",
            "2    1900\n",
            "3    1900\n",
            "1    1900\n",
            "0    1900\n",
            "Name: count, dtype: int64\n",
            "Using 30000 training examples for experiments.\n"
          ]
        }
      ]
    },
    {
      "cell_type": "markdown",
      "source": [
        "## 7.2 - Tokenization and Text Preprocessing\n",
        "\n",
        "In this step, we will tokenize the text data, build a vocabulary, and convert the texts into sequences of indices."
      ],
      "metadata": {
        "id": "-jchIYDCKKLG"
      }
    },
    {
      "cell_type": "code",
      "source": [
        "def tokenize_text(text):\n",
        "    return text.lower().split()\n",
        "\n",
        "# Build vocabulary from training texts\n",
        "all_tokens = []\n",
        "for text in train_texts:\n",
        "    all_tokens.extend(tokenize_text(text))\n",
        "token_counts = Counter(all_tokens)\n",
        "\n",
        "# Create a mapping from token to index (start indexing at 1, reserve 0 for padding)\n",
        "vocab = {word: idx+1 for idx, (word, _) in enumerate(token_counts.items())}\n",
        "vocab_size = len(vocab) + 1  # Adding 1 for the padding token (index 0)\n",
        "pad_idx = 0  # Padding token index\n",
        "\n",
        "# Convert texts to sequences of indices\n",
        "def text_to_indices(text):\n",
        "    return [vocab.get(word, 0) for word in tokenize_text(text)]  # Use 0 for unknown words\n",
        "\n",
        "train_texts_idx = [text_to_indices(text) for text in train_texts]\n",
        "test_texts_idx = [text_to_indices(text) for text in test_texts]\n"
      ],
      "metadata": {
        "id": "Z1XwNPDhKL61"
      },
      "execution_count": 46,
      "outputs": []
    },
    {
      "cell_type": "markdown",
      "source": [
        "## 7.3 - Define the Custom Dataset Classes"
      ],
      "metadata": {
        "id": "SuLRAQovKUhv"
      }
    },
    {
      "cell_type": "code",
      "source": [
        "max_seq_len_lstm = 100  # Maximum length of input sequence\n",
        "\n",
        "class NewsDataset(Dataset):\n",
        "    def __init__(self, texts, labels, max_seq_len_lstm):\n",
        "        self.texts = texts\n",
        "        self.labels = labels\n",
        "        self.max_seq_len_lstm = max_seq_len_lstm\n",
        "\n",
        "    def __len__(self):\n",
        "        return len(self.texts)\n",
        "\n",
        "    def __getitem__(self, idx):\n",
        "        # Pad or truncate the sequence to max_seq_len_lstm\n",
        "        text = self.texts[idx]\n",
        "        if len(text) < self.max_seq_len_lstm:\n",
        "            text = text + [pad_idx] * (self.max_seq_len_lstm - len(text))\n",
        "        else:\n",
        "            text = text[:self.max_seq_len_lstm]\n",
        "        label = self.labels[idx]\n",
        "        return torch.tensor(text, dtype=torch.long), torch.tensor(label, dtype=torch.long)\n",
        "\n",
        "train_dataset_lstm = NewsDataset(train_texts_idx, train_labels, max_seq_len_lstm)\n",
        "test_dataset_lstm = NewsDataset(test_texts_idx, test_labels, max_seq_len_lstm)\n",
        "\n",
        "train_loader_lstm = DataLoader(train_dataset_lstm, batch_size=64, shuffle=True)\n",
        "test_loader_lstm = DataLoader(test_dataset_lstm, batch_size=64, shuffle=False)\n"
      ],
      "metadata": {
        "id": "81CFG-e4KTBs"
      },
      "execution_count": 47,
      "outputs": []
    },
    {
      "cell_type": "markdown",
      "source": [
        "## 7.4 - Define the LSTM Model"
      ],
      "metadata": {
        "id": "FcN1kIJ-KW_F"
      }
    },
    {
      "cell_type": "code",
      "source": [
        "class LSTMClassifier(nn.Module):\n",
        "    def __init__(self, vocab_size, embed_size, hidden_size, num_classes, max_seq_len):\n",
        "        super(LSTMClassifier, self).__init__()\n",
        "        self.embedding = nn.Embedding(vocab_size, embed_size, padding_idx=pad_idx)\n",
        "        self.lstm = nn.LSTM(embed_size, hidden_size, batch_first=True)\n",
        "        self.fc = nn.Linear(hidden_size, num_classes)\n",
        "        self.max_seq_len = max_seq_len_lstm\n",
        "\n",
        "    def forward(self, x):\n",
        "        # x: [batch_size, seq_len]\n",
        "        embedded = self.embedding(x)  # [B, seq_len, embed_size]\n",
        "        lstm_out, (hn, cn) = self.lstm(embedded)\n",
        "        # Use the last hidden state for classification\n",
        "        out = self.fc(hn[-1])\n",
        "        return out\n",
        "\n",
        "# Hyperparameters for LSTM model\n",
        "lstm_embed_size = 100\n",
        "lstm_hidden_size = 128\n",
        "num_classes = 4\n",
        "\n",
        "lstm_model = LSTMClassifier(vocab_size, lstm_embed_size, lstm_hidden_size, num_classes, max_seq_len_lstm)\n"
      ],
      "metadata": {
        "id": "Isg89KdBKY9O"
      },
      "execution_count": 48,
      "outputs": []
    },
    {
      "cell_type": "markdown",
      "source": [
        "## 7.5 - Training and Evaluation Functions"
      ],
      "metadata": {
        "id": "2bCiAZpTKfQm"
      }
    },
    {
      "cell_type": "code",
      "source": [
        "optimizer_lstm = optim.Adam(lstm_model.parameters(), lr=0.001)\n",
        "criterion = nn.CrossEntropyLoss()\n",
        "\n",
        "from tqdm import tqdm\n",
        "\n",
        "def train_lstm(model, train_loader, optimizer, criterion):\n",
        "    model.train()\n",
        "    total_loss = 0\n",
        "    correct_preds = 0\n",
        "    total_preds = 0\n",
        "    loop = tqdm(train_loader, desc='Training LSTM', leave=False)\n",
        "    for texts, labels in loop:\n",
        "        optimizer.zero_grad()\n",
        "        outputs = model(texts)\n",
        "        loss = criterion(outputs, labels)\n",
        "        loss.backward()\n",
        "        optimizer.step()\n",
        "        total_loss += loss.item()\n",
        "        _, preds = torch.max(outputs, dim=1)\n",
        "        correct_preds += (preds == labels).sum().item()\n",
        "        total_preds += labels.size(0)\n",
        "        loop.set_postfix(loss=loss.item(), acc=100 * correct_preds / total_preds)\n",
        "    avg_loss = total_loss / len(train_loader)\n",
        "    accuracy = correct_preds / total_preds\n",
        "    return avg_loss, accuracy\n",
        "\n",
        "def evaluate_lstm(model, test_loader):\n",
        "    model.eval()\n",
        "    total_loss = 0\n",
        "    correct_preds = 0\n",
        "    total_preds = 0\n",
        "    with torch.no_grad():\n",
        "        for texts, labels in test_loader:\n",
        "            outputs = model(texts)\n",
        "            loss = criterion(outputs, labels)\n",
        "            total_loss += loss.item()\n",
        "            _, preds = torch.max(outputs, dim=1)\n",
        "            correct_preds += (preds == labels).sum().item()\n",
        "            total_preds += labels.size(0)\n",
        "    avg_loss = total_loss / len(test_loader)\n",
        "    accuracy = correct_preds / total_preds\n",
        "    return avg_loss, accuracy\n"
      ],
      "metadata": {
        "id": "KPZvVoXTKfzP"
      },
      "execution_count": 49,
      "outputs": []
    },
    {
      "cell_type": "markdown",
      "source": [
        "## 7.6 - Train the LSTM Model"
      ],
      "metadata": {
        "id": "A8pg4ByiKiE5"
      }
    },
    {
      "cell_type": "code",
      "source": [
        "num_epochs_lstm = 50\n",
        "\n",
        "for epoch in range(num_epochs_lstm):\n",
        "    train_loss, train_acc = train_lstm(lstm_model, train_loader_lstm, optimizer_lstm, criterion)\n",
        "    val_loss, val_acc = evaluate_lstm(lstm_model, test_loader_lstm)\n",
        "\n",
        "    print(f\"Epoch {epoch+1}/{num_epochs_lstm}\")\n",
        "    print(f\"Training Loss: {train_loss:.4f}, Training Accuracy: {train_acc:.4f}\")\n",
        "    print(f\"Validation Loss: {val_loss:.4f}, Validation Accuracy: {val_acc:.4f}\")\n",
        "\n",
        "final_val_loss_lstm, final_val_acc_lstm = evaluate_lstm(lstm_model, test_loader_lstm)\n",
        "print(f\"\\nFinal Test Accuracy (LSTM): {final_val_acc_lstm:.4f}\")\n",
        "\n",
        "# Classification report and confusion matrix for LSTM predictions\n",
        "lstm_model.eval()\n",
        "test_preds_lstm = []\n",
        "test_labels_list = []\n",
        "with torch.no_grad():\n",
        "    for texts, labels in test_loader_lstm:\n",
        "        outputs = lstm_model(texts)\n",
        "        _, preds = torch.max(outputs, dim=1)\n",
        "        test_preds_lstm.extend(preds.cpu().numpy())\n",
        "        test_labels_list.extend(labels.cpu().numpy())\n",
        "\n",
        "print(\"LSTM Classification Report:\")\n",
        "print(classification_report(test_labels_list, test_preds_lstm))\n",
        "print(\"LSTM Confusion Matrix:\")\n",
        "print(confusion_matrix(test_labels_list, test_preds_lstm))\n"
      ],
      "metadata": {
        "colab": {
          "base_uri": "https://localhost:8080/",
          "height": 408
        },
        "id": "-cdeEiL3KkDY",
        "outputId": "962629ea-2c45-4d87-d344-f5f9f60757cc"
      },
      "execution_count": 50,
      "outputs": [
        {
          "output_type": "stream",
          "name": "stderr",
          "text": []
        },
        {
          "output_type": "stream",
          "name": "stdout",
          "text": [
            "Epoch 1/50\n",
            "Training Loss: 1.3867, Training Accuracy: 0.2532\n",
            "Validation Loss: 1.3861, Validation Accuracy: 0.2513\n"
          ]
        },
        {
          "output_type": "stream",
          "name": "stderr",
          "text": []
        },
        {
          "output_type": "error",
          "ename": "KeyboardInterrupt",
          "evalue": "",
          "traceback": [
            "\u001b[0;31m---------------------------------------------------------------------------\u001b[0m",
            "\u001b[0;31mKeyboardInterrupt\u001b[0m                         Traceback (most recent call last)",
            "\u001b[0;32m<ipython-input-50-5bf4259330b0>\u001b[0m in \u001b[0;36m<cell line: 0>\u001b[0;34m()\u001b[0m\n\u001b[1;32m      2\u001b[0m \u001b[0;34m\u001b[0m\u001b[0m\n\u001b[1;32m      3\u001b[0m \u001b[0;32mfor\u001b[0m \u001b[0mepoch\u001b[0m \u001b[0;32min\u001b[0m \u001b[0mrange\u001b[0m\u001b[0;34m(\u001b[0m\u001b[0mnum_epochs_lstm\u001b[0m\u001b[0;34m)\u001b[0m\u001b[0;34m:\u001b[0m\u001b[0;34m\u001b[0m\u001b[0;34m\u001b[0m\u001b[0m\n\u001b[0;32m----> 4\u001b[0;31m     \u001b[0mtrain_loss\u001b[0m\u001b[0;34m,\u001b[0m \u001b[0mtrain_acc\u001b[0m \u001b[0;34m=\u001b[0m \u001b[0mtrain_lstm\u001b[0m\u001b[0;34m(\u001b[0m\u001b[0mlstm_model\u001b[0m\u001b[0;34m,\u001b[0m \u001b[0mtrain_loader_lstm\u001b[0m\u001b[0;34m,\u001b[0m \u001b[0moptimizer_lstm\u001b[0m\u001b[0;34m,\u001b[0m \u001b[0mcriterion\u001b[0m\u001b[0;34m)\u001b[0m\u001b[0;34m\u001b[0m\u001b[0;34m\u001b[0m\u001b[0m\n\u001b[0m\u001b[1;32m      5\u001b[0m     \u001b[0mval_loss\u001b[0m\u001b[0;34m,\u001b[0m \u001b[0mval_acc\u001b[0m \u001b[0;34m=\u001b[0m \u001b[0mevaluate_lstm\u001b[0m\u001b[0;34m(\u001b[0m\u001b[0mlstm_model\u001b[0m\u001b[0;34m,\u001b[0m \u001b[0mtest_loader_lstm\u001b[0m\u001b[0;34m)\u001b[0m\u001b[0;34m\u001b[0m\u001b[0;34m\u001b[0m\u001b[0m\n\u001b[1;32m      6\u001b[0m \u001b[0;34m\u001b[0m\u001b[0m\n",
            "\u001b[0;32m<ipython-input-49-f133b9344c05>\u001b[0m in \u001b[0;36mtrain_lstm\u001b[0;34m(model, train_loader, optimizer, criterion)\u001b[0m\n\u001b[1;32m     12\u001b[0m     \u001b[0;32mfor\u001b[0m \u001b[0mtexts\u001b[0m\u001b[0;34m,\u001b[0m \u001b[0mlabels\u001b[0m \u001b[0;32min\u001b[0m \u001b[0mloop\u001b[0m\u001b[0;34m:\u001b[0m\u001b[0;34m\u001b[0m\u001b[0;34m\u001b[0m\u001b[0m\n\u001b[1;32m     13\u001b[0m         \u001b[0moptimizer\u001b[0m\u001b[0;34m.\u001b[0m\u001b[0mzero_grad\u001b[0m\u001b[0;34m(\u001b[0m\u001b[0;34m)\u001b[0m\u001b[0;34m\u001b[0m\u001b[0;34m\u001b[0m\u001b[0m\n\u001b[0;32m---> 14\u001b[0;31m         \u001b[0moutputs\u001b[0m \u001b[0;34m=\u001b[0m \u001b[0mmodel\u001b[0m\u001b[0;34m(\u001b[0m\u001b[0mtexts\u001b[0m\u001b[0;34m)\u001b[0m\u001b[0;34m\u001b[0m\u001b[0;34m\u001b[0m\u001b[0m\n\u001b[0m\u001b[1;32m     15\u001b[0m         \u001b[0mloss\u001b[0m \u001b[0;34m=\u001b[0m \u001b[0mcriterion\u001b[0m\u001b[0;34m(\u001b[0m\u001b[0moutputs\u001b[0m\u001b[0;34m,\u001b[0m \u001b[0mlabels\u001b[0m\u001b[0;34m)\u001b[0m\u001b[0;34m\u001b[0m\u001b[0;34m\u001b[0m\u001b[0m\n\u001b[1;32m     16\u001b[0m         \u001b[0mloss\u001b[0m\u001b[0;34m.\u001b[0m\u001b[0mbackward\u001b[0m\u001b[0;34m(\u001b[0m\u001b[0;34m)\u001b[0m\u001b[0;34m\u001b[0m\u001b[0;34m\u001b[0m\u001b[0m\n",
            "\u001b[0;32m/usr/local/lib/python3.11/dist-packages/torch/nn/modules/module.py\u001b[0m in \u001b[0;36m_wrapped_call_impl\u001b[0;34m(self, *args, **kwargs)\u001b[0m\n\u001b[1;32m   1737\u001b[0m             \u001b[0;32mreturn\u001b[0m \u001b[0mself\u001b[0m\u001b[0;34m.\u001b[0m\u001b[0m_compiled_call_impl\u001b[0m\u001b[0;34m(\u001b[0m\u001b[0;34m*\u001b[0m\u001b[0margs\u001b[0m\u001b[0;34m,\u001b[0m \u001b[0;34m**\u001b[0m\u001b[0mkwargs\u001b[0m\u001b[0;34m)\u001b[0m  \u001b[0;31m# type: ignore[misc]\u001b[0m\u001b[0;34m\u001b[0m\u001b[0;34m\u001b[0m\u001b[0m\n\u001b[1;32m   1738\u001b[0m         \u001b[0;32melse\u001b[0m\u001b[0;34m:\u001b[0m\u001b[0;34m\u001b[0m\u001b[0;34m\u001b[0m\u001b[0m\n\u001b[0;32m-> 1739\u001b[0;31m             \u001b[0;32mreturn\u001b[0m \u001b[0mself\u001b[0m\u001b[0;34m.\u001b[0m\u001b[0m_call_impl\u001b[0m\u001b[0;34m(\u001b[0m\u001b[0;34m*\u001b[0m\u001b[0margs\u001b[0m\u001b[0;34m,\u001b[0m \u001b[0;34m**\u001b[0m\u001b[0mkwargs\u001b[0m\u001b[0;34m)\u001b[0m\u001b[0;34m\u001b[0m\u001b[0;34m\u001b[0m\u001b[0m\n\u001b[0m\u001b[1;32m   1740\u001b[0m \u001b[0;34m\u001b[0m\u001b[0m\n\u001b[1;32m   1741\u001b[0m     \u001b[0;31m# torchrec tests the code consistency with the following code\u001b[0m\u001b[0;34m\u001b[0m\u001b[0;34m\u001b[0m\u001b[0m\n",
            "\u001b[0;32m/usr/local/lib/python3.11/dist-packages/torch/nn/modules/module.py\u001b[0m in \u001b[0;36m_call_impl\u001b[0;34m(self, *args, **kwargs)\u001b[0m\n\u001b[1;32m   1748\u001b[0m                 \u001b[0;32mor\u001b[0m \u001b[0m_global_backward_pre_hooks\u001b[0m \u001b[0;32mor\u001b[0m \u001b[0m_global_backward_hooks\u001b[0m\u001b[0;34m\u001b[0m\u001b[0;34m\u001b[0m\u001b[0m\n\u001b[1;32m   1749\u001b[0m                 or _global_forward_hooks or _global_forward_pre_hooks):\n\u001b[0;32m-> 1750\u001b[0;31m             \u001b[0;32mreturn\u001b[0m \u001b[0mforward_call\u001b[0m\u001b[0;34m(\u001b[0m\u001b[0;34m*\u001b[0m\u001b[0margs\u001b[0m\u001b[0;34m,\u001b[0m \u001b[0;34m**\u001b[0m\u001b[0mkwargs\u001b[0m\u001b[0;34m)\u001b[0m\u001b[0;34m\u001b[0m\u001b[0;34m\u001b[0m\u001b[0m\n\u001b[0m\u001b[1;32m   1751\u001b[0m \u001b[0;34m\u001b[0m\u001b[0m\n\u001b[1;32m   1752\u001b[0m         \u001b[0mresult\u001b[0m \u001b[0;34m=\u001b[0m \u001b[0;32mNone\u001b[0m\u001b[0;34m\u001b[0m\u001b[0;34m\u001b[0m\u001b[0m\n",
            "\u001b[0;32m<ipython-input-48-031316a326a2>\u001b[0m in \u001b[0;36mforward\u001b[0;34m(self, x)\u001b[0m\n\u001b[1;32m     10\u001b[0m         \u001b[0;31m# x: [batch_size, seq_len]\u001b[0m\u001b[0;34m\u001b[0m\u001b[0;34m\u001b[0m\u001b[0m\n\u001b[1;32m     11\u001b[0m         \u001b[0membedded\u001b[0m \u001b[0;34m=\u001b[0m \u001b[0mself\u001b[0m\u001b[0;34m.\u001b[0m\u001b[0membedding\u001b[0m\u001b[0;34m(\u001b[0m\u001b[0mx\u001b[0m\u001b[0;34m)\u001b[0m  \u001b[0;31m# [B, seq_len, embed_size]\u001b[0m\u001b[0;34m\u001b[0m\u001b[0;34m\u001b[0m\u001b[0m\n\u001b[0;32m---> 12\u001b[0;31m         \u001b[0mlstm_out\u001b[0m\u001b[0;34m,\u001b[0m \u001b[0;34m(\u001b[0m\u001b[0mhn\u001b[0m\u001b[0;34m,\u001b[0m \u001b[0mcn\u001b[0m\u001b[0;34m)\u001b[0m \u001b[0;34m=\u001b[0m \u001b[0mself\u001b[0m\u001b[0;34m.\u001b[0m\u001b[0mlstm\u001b[0m\u001b[0;34m(\u001b[0m\u001b[0membedded\u001b[0m\u001b[0;34m)\u001b[0m\u001b[0;34m\u001b[0m\u001b[0;34m\u001b[0m\u001b[0m\n\u001b[0m\u001b[1;32m     13\u001b[0m         \u001b[0;31m# Use the last hidden state for classification\u001b[0m\u001b[0;34m\u001b[0m\u001b[0;34m\u001b[0m\u001b[0m\n\u001b[1;32m     14\u001b[0m         \u001b[0mout\u001b[0m \u001b[0;34m=\u001b[0m \u001b[0mself\u001b[0m\u001b[0;34m.\u001b[0m\u001b[0mfc\u001b[0m\u001b[0;34m(\u001b[0m\u001b[0mhn\u001b[0m\u001b[0;34m[\u001b[0m\u001b[0;34m-\u001b[0m\u001b[0;36m1\u001b[0m\u001b[0;34m]\u001b[0m\u001b[0;34m)\u001b[0m\u001b[0;34m\u001b[0m\u001b[0;34m\u001b[0m\u001b[0m\n",
            "\u001b[0;32m/usr/local/lib/python3.11/dist-packages/torch/nn/modules/module.py\u001b[0m in \u001b[0;36m_wrapped_call_impl\u001b[0;34m(self, *args, **kwargs)\u001b[0m\n\u001b[1;32m   1737\u001b[0m             \u001b[0;32mreturn\u001b[0m \u001b[0mself\u001b[0m\u001b[0;34m.\u001b[0m\u001b[0m_compiled_call_impl\u001b[0m\u001b[0;34m(\u001b[0m\u001b[0;34m*\u001b[0m\u001b[0margs\u001b[0m\u001b[0;34m,\u001b[0m \u001b[0;34m**\u001b[0m\u001b[0mkwargs\u001b[0m\u001b[0;34m)\u001b[0m  \u001b[0;31m# type: ignore[misc]\u001b[0m\u001b[0;34m\u001b[0m\u001b[0;34m\u001b[0m\u001b[0m\n\u001b[1;32m   1738\u001b[0m         \u001b[0;32melse\u001b[0m\u001b[0;34m:\u001b[0m\u001b[0;34m\u001b[0m\u001b[0;34m\u001b[0m\u001b[0m\n\u001b[0;32m-> 1739\u001b[0;31m             \u001b[0;32mreturn\u001b[0m \u001b[0mself\u001b[0m\u001b[0;34m.\u001b[0m\u001b[0m_call_impl\u001b[0m\u001b[0;34m(\u001b[0m\u001b[0;34m*\u001b[0m\u001b[0margs\u001b[0m\u001b[0;34m,\u001b[0m \u001b[0;34m**\u001b[0m\u001b[0mkwargs\u001b[0m\u001b[0;34m)\u001b[0m\u001b[0;34m\u001b[0m\u001b[0;34m\u001b[0m\u001b[0m\n\u001b[0m\u001b[1;32m   1740\u001b[0m \u001b[0;34m\u001b[0m\u001b[0m\n\u001b[1;32m   1741\u001b[0m     \u001b[0;31m# torchrec tests the code consistency with the following code\u001b[0m\u001b[0;34m\u001b[0m\u001b[0;34m\u001b[0m\u001b[0m\n",
            "\u001b[0;32m/usr/local/lib/python3.11/dist-packages/torch/nn/modules/module.py\u001b[0m in \u001b[0;36m_call_impl\u001b[0;34m(self, *args, **kwargs)\u001b[0m\n\u001b[1;32m   1748\u001b[0m                 \u001b[0;32mor\u001b[0m \u001b[0m_global_backward_pre_hooks\u001b[0m \u001b[0;32mor\u001b[0m \u001b[0m_global_backward_hooks\u001b[0m\u001b[0;34m\u001b[0m\u001b[0;34m\u001b[0m\u001b[0m\n\u001b[1;32m   1749\u001b[0m                 or _global_forward_hooks or _global_forward_pre_hooks):\n\u001b[0;32m-> 1750\u001b[0;31m             \u001b[0;32mreturn\u001b[0m \u001b[0mforward_call\u001b[0m\u001b[0;34m(\u001b[0m\u001b[0;34m*\u001b[0m\u001b[0margs\u001b[0m\u001b[0;34m,\u001b[0m \u001b[0;34m**\u001b[0m\u001b[0mkwargs\u001b[0m\u001b[0;34m)\u001b[0m\u001b[0;34m\u001b[0m\u001b[0;34m\u001b[0m\u001b[0m\n\u001b[0m\u001b[1;32m   1751\u001b[0m \u001b[0;34m\u001b[0m\u001b[0m\n\u001b[1;32m   1752\u001b[0m         \u001b[0mresult\u001b[0m \u001b[0;34m=\u001b[0m \u001b[0;32mNone\u001b[0m\u001b[0;34m\u001b[0m\u001b[0;34m\u001b[0m\u001b[0m\n",
            "\u001b[0;32m/usr/local/lib/python3.11/dist-packages/torch/nn/modules/rnn.py\u001b[0m in \u001b[0;36mforward\u001b[0;34m(self, input, hx)\u001b[0m\n\u001b[1;32m   1122\u001b[0m \u001b[0;34m\u001b[0m\u001b[0m\n\u001b[1;32m   1123\u001b[0m         \u001b[0;32mif\u001b[0m \u001b[0mbatch_sizes\u001b[0m \u001b[0;32mis\u001b[0m \u001b[0;32mNone\u001b[0m\u001b[0;34m:\u001b[0m\u001b[0;34m\u001b[0m\u001b[0;34m\u001b[0m\u001b[0m\n\u001b[0;32m-> 1124\u001b[0;31m             result = _VF.lstm(\n\u001b[0m\u001b[1;32m   1125\u001b[0m                 \u001b[0minput\u001b[0m\u001b[0;34m,\u001b[0m\u001b[0;34m\u001b[0m\u001b[0;34m\u001b[0m\u001b[0m\n\u001b[1;32m   1126\u001b[0m                 \u001b[0mhx\u001b[0m\u001b[0;34m,\u001b[0m\u001b[0;34m\u001b[0m\u001b[0;34m\u001b[0m\u001b[0m\n",
            "\u001b[0;31mKeyboardInterrupt\u001b[0m: "
          ]
        }
      ]
    },
    {
      "cell_type": "markdown",
      "source": [
        "# 8 - Model Comparison Summary\n",
        "Below is a summary of test accuracies for:\n",
        "1. Logistic Regression (With L2 Regularization)\n",
        "2. Original Neural Network Classifier\n",
        "3. Deep Neural Network Classifier\n",
        "4. LSTM Classifier\n",
        "5. XGBoost Classifier\n",
        "6. RandomForest Classifier"
      ],
      "metadata": {
        "id": "YbJhqFW0Ei83"
      }
    },
    {
      "cell_type": "code",
      "source": [
        "# For the LSTM, ensure final_val_acc_lstm is defined from the previous block.\n",
        "\n",
        "# Testing only, delete later:\n",
        "final_val_acc_lstm=[]\n",
        "\n",
        "comparison_data = {\n",
        "    \"Model\": [\n",
        "        \"Logistic Regression (L2 Reg)\",\n",
        "        \"Original NN\",\n",
        "        \"Deep NN\",\n",
        "        \"LSTM\",\n",
        "        \"XGBoost\",\n",
        "        \"RandomForest\"\n",
        "    ],\n",
        "    \"Test Accuracy\": [\n",
        "        test_acc_reg,\n",
        "        final_nn_acc,\n",
        "        final_deep_acc,\n",
        "        final_val_acc_lstm,\n",
        "        xgb_test_acc,\n",
        "        rf_test_acc\n",
        "    ]\n",
        "}\n",
        "\n",
        "comparison_df = pd.DataFrame(comparison_data)\n",
        "print(\"Performance Comparison Summary:\")\n",
        "print(comparison_df)\n"
      ],
      "metadata": {
        "colab": {
          "base_uri": "https://localhost:8080/"
        },
        "id": "CVLgNSD_FE9C",
        "outputId": "120b1a9a-ddde-457b-bfbd-5d6c4182338e"
      },
      "execution_count": 54,
      "outputs": [
        {
          "output_type": "stream",
          "name": "stdout",
          "text": [
            "Performance Comparison Summary:\n",
            "                          Model Test Accuracy\n",
            "0  Logistic Regression (L2 Reg)      0.899211\n",
            "1                   Original NN      0.581974\n",
            "2                       Deep NN      0.460921\n",
            "3                          LSTM            []\n",
            "4                       XGBoost      0.879342\n",
            "5                  RandomForest      0.857895\n"
          ]
        }
      ]
    },
    {
      "cell_type": "markdown",
      "metadata": {
        "id": "5diqpp5YMO92"
      },
      "source": [
        "# Manual Headline Prediction for All Models\n",
        "\n",
        "This section defines a code block where a user-entered headline is processed through all models and predictions (with confidence levels) are printed.\n",
        "\n",
        "Enter a news headline manually and see the predictions from:\n",
        "1. Baseline Logistic Regression (using CountVectorizer features)\n",
        "2. Neural Network Classifier (using our custom tokenization and padding)\n",
        "3.\n",
        "4.\n",
        "5.\n",
        "\n",
        "\n",
        "\n"
      ]
    },
    {
      "cell_type": "code",
      "execution_count": 55,
      "metadata": {
        "id": "K9RmVVK0MO93",
        "colab": {
          "base_uri": "https://localhost:8080/",
          "height": 315
        },
        "outputId": "d5e8d192-1bbb-47d6-9e6f-e8fefa8cff84"
      },
      "outputs": [
        {
          "output_type": "stream",
          "name": "stdout",
          "text": [
            "Headline: Local sports team wins championship in a stunning upset\n",
            "\n",
            "Baseline Logistic Regression:\n",
            " Predicted Label: 1 (Sports)\n",
            " Confidence: 83.46%\n",
            "\n"
          ]
        },
        {
          "output_type": "error",
          "ename": "ValueError",
          "evalue": "too many dimensions 'str'",
          "traceback": [
            "\u001b[0;31m---------------------------------------------------------------------------\u001b[0m",
            "\u001b[0;31mValueError\u001b[0m                                Traceback (most recent call last)",
            "\u001b[0;32m<ipython-input-55-5aed501b1217>\u001b[0m in \u001b[0;36m<cell line: 0>\u001b[0;34m()\u001b[0m\n\u001b[1;32m     21\u001b[0m \u001b[0;32melse\u001b[0m\u001b[0;34m:\u001b[0m\u001b[0;34m\u001b[0m\u001b[0;34m\u001b[0m\u001b[0m\n\u001b[1;32m     22\u001b[0m     \u001b[0mindices\u001b[0m \u001b[0;34m=\u001b[0m \u001b[0mindices\u001b[0m\u001b[0;34m[\u001b[0m\u001b[0;34m:\u001b[0m\u001b[0mmax_seq_len\u001b[0m\u001b[0;34m]\u001b[0m\u001b[0;34m\u001b[0m\u001b[0;34m\u001b[0m\u001b[0m\n\u001b[0;32m---> 23\u001b[0;31m \u001b[0minput_tensor\u001b[0m \u001b[0;34m=\u001b[0m \u001b[0mtorch\u001b[0m\u001b[0;34m.\u001b[0m\u001b[0mtensor\u001b[0m\u001b[0;34m(\u001b[0m\u001b[0;34m[\u001b[0m\u001b[0mindices\u001b[0m\u001b[0;34m]\u001b[0m\u001b[0;34m,\u001b[0m \u001b[0mdtype\u001b[0m\u001b[0;34m=\u001b[0m\u001b[0mtorch\u001b[0m\u001b[0;34m.\u001b[0m\u001b[0mlong\u001b[0m\u001b[0;34m)\u001b[0m\u001b[0;34m\u001b[0m\u001b[0;34m\u001b[0m\u001b[0m\n\u001b[0m\u001b[1;32m     24\u001b[0m \u001b[0mmodel_nn\u001b[0m\u001b[0;34m.\u001b[0m\u001b[0meval\u001b[0m\u001b[0;34m(\u001b[0m\u001b[0;34m)\u001b[0m\u001b[0;34m\u001b[0m\u001b[0;34m\u001b[0m\u001b[0m\n\u001b[1;32m     25\u001b[0m \u001b[0;32mwith\u001b[0m \u001b[0mtorch\u001b[0m\u001b[0;34m.\u001b[0m\u001b[0mno_grad\u001b[0m\u001b[0;34m(\u001b[0m\u001b[0;34m)\u001b[0m\u001b[0;34m:\u001b[0m\u001b[0;34m\u001b[0m\u001b[0;34m\u001b[0m\u001b[0m\n",
            "\u001b[0;31mValueError\u001b[0m: too many dimensions 'str'"
          ]
        }
      ],
      "source": [
        "# Define label mapping\n",
        "label_mapping = {0: \"World\", 1: \"Sports\", 2: \"Business\", 3: \"Sci/Tech\"}\n",
        "\n",
        "# Input headline (user can change this value)\n",
        "headline = \"Local sports team wins championship in a stunning upset\"\n",
        "print(f\"Headline: {headline}\\n\")\n",
        "\n",
        "# --- Baseline Prediction using Logistic Regression ---\n",
        "X_input = vectorizer.transform([headline])\n",
        "probs_baseline = lr_reg.predict_proba(X_input)[0]\n",
        "pred_label_baseline = lr_reg.predict(X_input)[0]\n",
        "confidence_baseline = np.max(probs_baseline) * 100\n",
        "print(\"Baseline Logistic Regression:\")\n",
        "print(f\" Predicted Label: {pred_label_baseline} ({label_mapping[pred_label_baseline]})\")\n",
        "print(f\" Confidence: {confidence_baseline:.2f}%\\n\")\n",
        "\n",
        "# --- Original Neural Network Prediction ---\n",
        "indices = tokenize_text(headline)\n",
        "if len(indices) < max_seq_len_nn:\n",
        "    indices = indices + [pad_idx] * (max_seq_len_nn - len(indices))\n",
        "else:\n",
        "    indices = indices[:max_seq_len_nn]\n",
        "input_tensor = torch.tensor([indices], dtype=torch.long)\n",
        "model_nn.eval()\n",
        "with torch.no_grad():\n",
        "    logits_nn = model_nn(input_tensor)\n",
        "    probs_nn = F.softmax(logits_nn, dim=1)[0]\n",
        "    pred_label_nn = torch.argmax(probs_nn).item()\n",
        "    confidence_nn = probs_nn[pred_label_nn].item() * 100\n",
        "print(\"Original Neural Network Classifier:\")\n",
        "print(f\" Predicted Label: {pred_label_nn} ({label_mapping[pred_label_nn]})\")\n",
        "print(f\" Confidence: {confidence_nn:.2f}%\\n\")\n",
        "\n",
        "# --- Deep Neural Network Prediction ---\n",
        "deep_model.eval()\n",
        "with torch.no_grad():\n",
        "    logits_deep = deep_model(input_tensor)\n",
        "    probs_deep = F.softmax(logits_deep, dim=1)[0]\n",
        "    pred_label_deep = torch.argmax(probs_deep).item()\n",
        "    confidence_deep = probs_deep[pred_label_deep].item() * 100\n",
        "print(\"Deep Neural Network Classifier:\")\n",
        "print(f\" Predicted Label: {pred_label_deep} ({label_mapping[pred_label_deep]})\")\n",
        "print(f\" Confidence: {confidence_deep:.2f}%\\n\")\n",
        "\n",
        "# --- LSTM Classifier Prediction ---\n",
        "lstm_indices = text_to_indices(headline)\n",
        "if len(lstm_indices) < max_seq_len_lstm:\n",
        "    lstm_indices = lstm_indices + [pad_idx] * (max_seq_len_lstm - len(lstm_indices))\n",
        "else:\n",
        "    lstm_indices = lstm_indices[:max_seq_len_lstm]\n",
        "lstm_input = torch.tensor([lstm_indices], dtype=torch.long)\n",
        "lstm_model.eval()\n",
        "with torch.no_grad():\n",
        "    logits_lstm = lstm_model(lstm_input)\n",
        "    probs_lstm = F.softmax(logits_lstm, dim=1)[0]\n",
        "    pred_label_lstm = torch.argmax(probs_lstm).item()\n",
        "    confidence_lstm = probs_lstm[pred_label_lstm].item() * 100\n",
        "print(\"LSTM Classifier:\")\n",
        "print(f\" Predicted Label: {pred_label_lstm} ({label_mapping[pred_label_lstm]})\")\n",
        "print(f\" Confidence: {confidence_lstm:.2f}%\\n\")\n",
        "\n",
        "# --- XGBoost Prediction ---\n",
        "probs_xgb = xgb_clf.predict_proba(X_input)[0]\n",
        "pred_label_xgb = xgb_clf.predict(X_input)[0]\n",
        "confidence_xgb = np.max(probs_xgb) * 100\n",
        "print(\"XGBoost Classifier:\")\n",
        "print(f\" Predicted Label: {pred_label_xgb} ({label_mapping[pred_label_xgb]})\")\n",
        "print(f\" Confidence: {confidence_xgb:.2f}%\\n\")\n",
        "\n",
        "# --- RandomForest Prediction ---\n",
        "probs_rf = rf_clf.predict_proba(X_input)[0]\n",
        "pred_label_rf = rf_clf.predict(X_input)[0]\n",
        "confidence_rf = np.max(probs_rf) * 100\n",
        "print(\"RandomForest Classifier:\")\n",
        "print(f\" Predicted Label: {pred_label_rf} ({label_mapping[pred_label_rf]})\")\n",
        "print(f\" Confidence: {confidence_rf:.2f}%\\n\")\n"
      ]
    }
  ],
  "metadata": {
    "colab": {
      "toc_visible": true,
      "provenance": [],
      "gpuType": "V28",
      "include_colab_link": true
    },
    "kernelspec": {
      "display_name": "Python 3",
      "name": "python3"
    },
    "language_info": {
      "name": "python"
    },
    "accelerator": "TPU"
  },
  "nbformat": 4,
  "nbformat_minor": 0
}